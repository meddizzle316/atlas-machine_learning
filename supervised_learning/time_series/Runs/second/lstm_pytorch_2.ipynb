{
 "cells": [
  {
   "cell_type": "code",
   "id": "initial_id",
   "metadata": {
    "collapsed": true,
    "ExecuteTime": {
     "end_time": "2024-11-13T22:55:02.322102Z",
     "start_time": "2024-11-13T22:55:02.308002Z"
    }
   },
   "source": [
    "import yfinance as yf\n",
    "import os\n",
    "import pandas as pd\n",
    "import torch \n",
    "import torch.nn as nn\n",
    "\n"
   ],
   "outputs": [],
   "execution_count": 253
  },
  {
   "metadata": {
    "ExecuteTime": {
     "end_time": "2024-11-13T22:55:02.353729Z",
     "start_time": "2024-11-13T22:55:02.344765Z"
    }
   },
   "cell_type": "code",
   "source": "btc_ticker = yf.Ticker('BTC-USD')",
   "id": "341fde25d9f8ddec",
   "outputs": [],
   "execution_count": 254
  },
  {
   "metadata": {
    "ExecuteTime": {
     "end_time": "2024-11-13T22:55:02.839295Z",
     "start_time": "2024-11-13T22:55:02.624426Z"
    }
   },
   "cell_type": "code",
   "source": [
    "\n",
    "if os.path.exists('btc.csv'):\n",
    "    btc = pd.read_csv('btc.csv', index_col=0)\n",
    "else:\n",
    "    btc = btc_ticker.history(period='max')\n",
    "    btc.to_csv('btc.csv')"
   ],
   "id": "72e51787d41e6adf",
   "outputs": [],
   "execution_count": 255
  },
  {
   "metadata": {
    "ExecuteTime": {
     "end_time": "2024-11-13T22:55:03.087351Z",
     "start_time": "2024-11-13T22:55:03.078175Z"
    }
   },
   "cell_type": "code",
   "source": [
    "del btc['Dividends']\n",
    "del btc[\"Stock Splits\"]"
   ],
   "id": "5374dbb189b44e85",
   "outputs": [],
   "execution_count": 256
  },
  {
   "metadata": {
    "ExecuteTime": {
     "end_time": "2024-11-13T22:55:03.357593Z",
     "start_time": "2024-11-13T22:55:03.329159Z"
    }
   },
   "cell_type": "code",
   "source": "btc",
   "id": "c01028303eaaa641",
   "outputs": [
    {
     "data": {
      "text/plain": [
       "                                   Open          High           Low  \\\n",
       "Date                                                                  \n",
       "2014-09-17 00:00:00+00:00    465.864014    468.174011    452.421997   \n",
       "2014-09-18 00:00:00+00:00    456.859985    456.859985    413.104004   \n",
       "2014-09-19 00:00:00+00:00    424.102997    427.834991    384.532013   \n",
       "2014-09-20 00:00:00+00:00    394.673004    423.295990    389.882996   \n",
       "2014-09-21 00:00:00+00:00    408.084991    412.425995    393.181000   \n",
       "...                                 ...           ...           ...   \n",
       "2024-11-07 00:00:00+00:00  75637.085938  76943.117188  74480.421875   \n",
       "2024-11-08 00:00:00+00:00  75902.835938  77252.750000  75648.742188   \n",
       "2024-11-09 00:00:00+00:00  76556.187500  76932.765625  75773.789062   \n",
       "2024-11-10 00:00:00+00:00  76775.546875  81474.421875  76565.429688   \n",
       "2024-11-11 00:00:00+00:00  80444.125000  84961.062500  80444.125000   \n",
       "\n",
       "                                  Close       Volume  \n",
       "Date                                                  \n",
       "2014-09-17 00:00:00+00:00    457.334015     21056800  \n",
       "2014-09-18 00:00:00+00:00    424.440002     34483200  \n",
       "2014-09-19 00:00:00+00:00    394.795990     37919700  \n",
       "2014-09-20 00:00:00+00:00    408.903992     36863600  \n",
       "2014-09-21 00:00:00+00:00    398.821014     26580100  \n",
       "...                                 ...          ...  \n",
       "2024-11-07 00:00:00+00:00  75904.859375  63467654989  \n",
       "2024-11-08 00:00:00+00:00  76545.476562  55176858003  \n",
       "2024-11-09 00:00:00+00:00  76778.867188  29009480361  \n",
       "2024-11-10 00:00:00+00:00  80474.187500  82570594495  \n",
       "2024-11-11 00:00:00+00:00  84506.726562  93990379520  \n",
       "\n",
       "[3709 rows x 5 columns]"
      ],
      "text/html": [
       "<div>\n",
       "<style scoped>\n",
       "    .dataframe tbody tr th:only-of-type {\n",
       "        vertical-align: middle;\n",
       "    }\n",
       "\n",
       "    .dataframe tbody tr th {\n",
       "        vertical-align: top;\n",
       "    }\n",
       "\n",
       "    .dataframe thead th {\n",
       "        text-align: right;\n",
       "    }\n",
       "</style>\n",
       "<table border=\"1\" class=\"dataframe\">\n",
       "  <thead>\n",
       "    <tr style=\"text-align: right;\">\n",
       "      <th></th>\n",
       "      <th>Open</th>\n",
       "      <th>High</th>\n",
       "      <th>Low</th>\n",
       "      <th>Close</th>\n",
       "      <th>Volume</th>\n",
       "    </tr>\n",
       "    <tr>\n",
       "      <th>Date</th>\n",
       "      <th></th>\n",
       "      <th></th>\n",
       "      <th></th>\n",
       "      <th></th>\n",
       "      <th></th>\n",
       "    </tr>\n",
       "  </thead>\n",
       "  <tbody>\n",
       "    <tr>\n",
       "      <th>2014-09-17 00:00:00+00:00</th>\n",
       "      <td>465.864014</td>\n",
       "      <td>468.174011</td>\n",
       "      <td>452.421997</td>\n",
       "      <td>457.334015</td>\n",
       "      <td>21056800</td>\n",
       "    </tr>\n",
       "    <tr>\n",
       "      <th>2014-09-18 00:00:00+00:00</th>\n",
       "      <td>456.859985</td>\n",
       "      <td>456.859985</td>\n",
       "      <td>413.104004</td>\n",
       "      <td>424.440002</td>\n",
       "      <td>34483200</td>\n",
       "    </tr>\n",
       "    <tr>\n",
       "      <th>2014-09-19 00:00:00+00:00</th>\n",
       "      <td>424.102997</td>\n",
       "      <td>427.834991</td>\n",
       "      <td>384.532013</td>\n",
       "      <td>394.795990</td>\n",
       "      <td>37919700</td>\n",
       "    </tr>\n",
       "    <tr>\n",
       "      <th>2014-09-20 00:00:00+00:00</th>\n",
       "      <td>394.673004</td>\n",
       "      <td>423.295990</td>\n",
       "      <td>389.882996</td>\n",
       "      <td>408.903992</td>\n",
       "      <td>36863600</td>\n",
       "    </tr>\n",
       "    <tr>\n",
       "      <th>2014-09-21 00:00:00+00:00</th>\n",
       "      <td>408.084991</td>\n",
       "      <td>412.425995</td>\n",
       "      <td>393.181000</td>\n",
       "      <td>398.821014</td>\n",
       "      <td>26580100</td>\n",
       "    </tr>\n",
       "    <tr>\n",
       "      <th>...</th>\n",
       "      <td>...</td>\n",
       "      <td>...</td>\n",
       "      <td>...</td>\n",
       "      <td>...</td>\n",
       "      <td>...</td>\n",
       "    </tr>\n",
       "    <tr>\n",
       "      <th>2024-11-07 00:00:00+00:00</th>\n",
       "      <td>75637.085938</td>\n",
       "      <td>76943.117188</td>\n",
       "      <td>74480.421875</td>\n",
       "      <td>75904.859375</td>\n",
       "      <td>63467654989</td>\n",
       "    </tr>\n",
       "    <tr>\n",
       "      <th>2024-11-08 00:00:00+00:00</th>\n",
       "      <td>75902.835938</td>\n",
       "      <td>77252.750000</td>\n",
       "      <td>75648.742188</td>\n",
       "      <td>76545.476562</td>\n",
       "      <td>55176858003</td>\n",
       "    </tr>\n",
       "    <tr>\n",
       "      <th>2024-11-09 00:00:00+00:00</th>\n",
       "      <td>76556.187500</td>\n",
       "      <td>76932.765625</td>\n",
       "      <td>75773.789062</td>\n",
       "      <td>76778.867188</td>\n",
       "      <td>29009480361</td>\n",
       "    </tr>\n",
       "    <tr>\n",
       "      <th>2024-11-10 00:00:00+00:00</th>\n",
       "      <td>76775.546875</td>\n",
       "      <td>81474.421875</td>\n",
       "      <td>76565.429688</td>\n",
       "      <td>80474.187500</td>\n",
       "      <td>82570594495</td>\n",
       "    </tr>\n",
       "    <tr>\n",
       "      <th>2024-11-11 00:00:00+00:00</th>\n",
       "      <td>80444.125000</td>\n",
       "      <td>84961.062500</td>\n",
       "      <td>80444.125000</td>\n",
       "      <td>84506.726562</td>\n",
       "      <td>93990379520</td>\n",
       "    </tr>\n",
       "  </tbody>\n",
       "</table>\n",
       "<p>3709 rows × 5 columns</p>\n",
       "</div>"
      ]
     },
     "execution_count": 257,
     "metadata": {},
     "output_type": "execute_result"
    }
   ],
   "execution_count": 257
  },
  {
   "metadata": {
    "ExecuteTime": {
     "end_time": "2024-11-13T22:55:03.707975Z",
     "start_time": "2024-11-13T22:55:03.695865Z"
    }
   },
   "cell_type": "code",
   "source": [
    "import warnings\n",
    "warnings.filterwarnings(\"ignore\") # why have I never done this before?\n",
    "\n",
    "n_epochs = 1000\n",
    "learning_rate = 0.001\n",
    "\n",
    "input_size = 4\n",
    "hidden_size = 256 # number of features in hidden state\n",
    "num_layers = 2 # number of stacked lstm layers\n",
    "\n",
    "num_classes = 50 # number of output classes (Why do we have fifty here?) "
   ],
   "id": "c52e0e653a8edb6a",
   "outputs": [],
   "execution_count": 258
  },
  {
   "metadata": {
    "ExecuteTime": {
     "end_time": "2024-11-13T22:55:33.110692Z",
     "start_time": "2024-11-13T22:55:03.802123Z"
    }
   },
   "cell_type": "code",
   "source": [
    "# plotting initial dataset\n",
    "import matplotlib.pyplot as plt\n",
    "\n",
    "plt.plot(btc.Close)\n",
    "plt.xlabel(\"Time\")\n",
    "plt.ylabel(\"Price\")\n",
    "plt.title(\"Bitcoin Prices\")\n",
    "plt.savefig(\"init_plot.png\", dpi=250)\n",
    "plt.show()"
   ],
   "id": "60f1998ca051cdf6",
   "outputs": [
    {
     "data": {
      "text/plain": [
       "<Figure size 640x480 with 1 Axes>"
      ],
      "image/png": "[encoded data removed]"
     },
     "metadata": {},
     "output_type": "display_data"
    }
   ],
   "execution_count": 259
  },
  {
   "metadata": {
    "ExecuteTime": {
     "end_time": "2024-11-13T22:55:33.146437Z",
     "start_time": "2024-11-13T22:55:33.120202Z"
    }
   },
   "cell_type": "code",
   "source": [
    "x, y = btc.drop(columns=['Close']), btc.Close.values\n",
    "x.shape, y.shape"
   ],
   "id": "d1886d7d9dd85b37",
   "outputs": [
    {
     "data": {
      "text/plain": [
       "((3709, 4), (3709,))"
      ]
     },
     "execution_count": 260,
     "metadata": {},
     "output_type": "execute_result"
    }
   ],
   "execution_count": 260
  },
  {
   "metadata": {
    "ExecuteTime": {
     "end_time": "2024-11-13T22:55:33.446770Z",
     "start_time": "2024-11-13T22:55:33.439910Z"
    }
   },
   "cell_type": "code",
   "source": "y",
   "id": "19db17bddb1ee552",
   "outputs": [
    {
     "data": {
      "text/plain": [
       "array([  457.33401489,   424.44000244,   394.79598999, ...,\n",
       "       76778.8671875 , 80474.1875    , 84506.7265625 ])"
      ]
     },
     "execution_count": 261,
     "metadata": {},
     "output_type": "execute_result"
    }
   ],
   "execution_count": 261
  },
  {
   "metadata": {
    "ExecuteTime": {
     "end_time": "2024-11-13T22:55:33.779502Z",
     "start_time": "2024-11-13T22:55:33.755534Z"
    }
   },
   "cell_type": "code",
   "source": "x",
   "id": "2ede469812b89b59",
   "outputs": [
    {
     "data": {
      "text/plain": [
       "                                   Open          High           Low  \\\n",
       "Date                                                                  \n",
       "2014-09-17 00:00:00+00:00    465.864014    468.174011    452.421997   \n",
       "2014-09-18 00:00:00+00:00    456.859985    456.859985    413.104004   \n",
       "2014-09-19 00:00:00+00:00    424.102997    427.834991    384.532013   \n",
       "2014-09-20 00:00:00+00:00    394.673004    423.295990    389.882996   \n",
       "2014-09-21 00:00:00+00:00    408.084991    412.425995    393.181000   \n",
       "...                                 ...           ...           ...   \n",
       "2024-11-07 00:00:00+00:00  75637.085938  76943.117188  74480.421875   \n",
       "2024-11-08 00:00:00+00:00  75902.835938  77252.750000  75648.742188   \n",
       "2024-11-09 00:00:00+00:00  76556.187500  76932.765625  75773.789062   \n",
       "2024-11-10 00:00:00+00:00  76775.546875  81474.421875  76565.429688   \n",
       "2024-11-11 00:00:00+00:00  80444.125000  84961.062500  80444.125000   \n",
       "\n",
       "                                Volume  \n",
       "Date                                    \n",
       "2014-09-17 00:00:00+00:00     21056800  \n",
       "2014-09-18 00:00:00+00:00     34483200  \n",
       "2014-09-19 00:00:00+00:00     37919700  \n",
       "2014-09-20 00:00:00+00:00     36863600  \n",
       "2014-09-21 00:00:00+00:00     26580100  \n",
       "...                                ...  \n",
       "2024-11-07 00:00:00+00:00  63467654989  \n",
       "2024-11-08 00:00:00+00:00  55176858003  \n",
       "2024-11-09 00:00:00+00:00  29009480361  \n",
       "2024-11-10 00:00:00+00:00  82570594495  \n",
       "2024-11-11 00:00:00+00:00  93990379520  \n",
       "\n",
       "[3709 rows x 4 columns]"
      ],
      "text/html": [
       "<div>\n",
       "<style scoped>\n",
       "    .dataframe tbody tr th:only-of-type {\n",
       "        vertical-align: middle;\n",
       "    }\n",
       "\n",
       "    .dataframe tbody tr th {\n",
       "        vertical-align: top;\n",
       "    }\n",
       "\n",
       "    .dataframe thead th {\n",
       "        text-align: right;\n",
       "    }\n",
       "</style>\n",
       "<table border=\"1\" class=\"dataframe\">\n",
       "  <thead>\n",
       "    <tr style=\"text-align: right;\">\n",
       "      <th></th>\n",
       "      <th>Open</th>\n",
       "      <th>High</th>\n",
       "      <th>Low</th>\n",
       "      <th>Volume</th>\n",
       "    </tr>\n",
       "    <tr>\n",
       "      <th>Date</th>\n",
       "      <th></th>\n",
       "      <th></th>\n",
       "      <th></th>\n",
       "      <th></th>\n",
       "    </tr>\n",
       "  </thead>\n",
       "  <tbody>\n",
       "    <tr>\n",
       "      <th>2014-09-17 00:00:00+00:00</th>\n",
       "      <td>465.864014</td>\n",
       "      <td>468.174011</td>\n",
       "      <td>452.421997</td>\n",
       "      <td>21056800</td>\n",
       "    </tr>\n",
       "    <tr>\n",
       "      <th>2014-09-18 00:00:00+00:00</th>\n",
       "      <td>456.859985</td>\n",
       "      <td>456.859985</td>\n",
       "      <td>413.104004</td>\n",
       "      <td>34483200</td>\n",
       "    </tr>\n",
       "    <tr>\n",
       "      <th>2014-09-19 00:00:00+00:00</th>\n",
       "      <td>424.102997</td>\n",
       "      <td>427.834991</td>\n",
       "      <td>384.532013</td>\n",
       "      <td>37919700</td>\n",
       "    </tr>\n",
       "    <tr>\n",
       "      <th>2014-09-20 00:00:00+00:00</th>\n",
       "      <td>394.673004</td>\n",
       "      <td>423.295990</td>\n",
       "      <td>389.882996</td>\n",
       "      <td>36863600</td>\n",
       "    </tr>\n",
       "    <tr>\n",
       "      <th>2014-09-21 00:00:00+00:00</th>\n",
       "      <td>408.084991</td>\n",
       "      <td>412.425995</td>\n",
       "      <td>393.181000</td>\n",
       "      <td>26580100</td>\n",
       "    </tr>\n",
       "    <tr>\n",
       "      <th>...</th>\n",
       "      <td>...</td>\n",
       "      <td>...</td>\n",
       "      <td>...</td>\n",
       "      <td>...</td>\n",
       "    </tr>\n",
       "    <tr>\n",
       "      <th>2024-11-07 00:00:00+00:00</th>\n",
       "      <td>75637.085938</td>\n",
       "      <td>76943.117188</td>\n",
       "      <td>74480.421875</td>\n",
       "      <td>63467654989</td>\n",
       "    </tr>\n",
       "    <tr>\n",
       "      <th>2024-11-08 00:00:00+00:00</th>\n",
       "      <td>75902.835938</td>\n",
       "      <td>77252.750000</td>\n",
       "      <td>75648.742188</td>\n",
       "      <td>55176858003</td>\n",
       "    </tr>\n",
       "    <tr>\n",
       "      <th>2024-11-09 00:00:00+00:00</th>\n",
       "      <td>76556.187500</td>\n",
       "      <td>76932.765625</td>\n",
       "      <td>75773.789062</td>\n",
       "      <td>29009480361</td>\n",
       "    </tr>\n",
       "    <tr>\n",
       "      <th>2024-11-10 00:00:00+00:00</th>\n",
       "      <td>76775.546875</td>\n",
       "      <td>81474.421875</td>\n",
       "      <td>76565.429688</td>\n",
       "      <td>82570594495</td>\n",
       "    </tr>\n",
       "    <tr>\n",
       "      <th>2024-11-11 00:00:00+00:00</th>\n",
       "      <td>80444.125000</td>\n",
       "      <td>84961.062500</td>\n",
       "      <td>80444.125000</td>\n",
       "      <td>93990379520</td>\n",
       "    </tr>\n",
       "  </tbody>\n",
       "</table>\n",
       "<p>3709 rows × 4 columns</p>\n",
       "</div>"
      ]
     },
     "execution_count": 262,
     "metadata": {},
     "output_type": "execute_result"
    }
   ],
   "execution_count": 262
  },
  {
   "metadata": {
    "ExecuteTime": {
     "end_time": "2024-11-13T22:55:34.084783Z",
     "start_time": "2024-11-13T22:55:34.061724Z"
    }
   },
   "cell_type": "code",
   "source": [
    "from sklearn.preprocessing import MinMaxScaler, StandardScaler\n",
    "mm = MinMaxScaler()\n",
    "ss = StandardScaler()\n",
    "\n",
    "x_trans = ss.fit_transform(x) ## mean of 0, std of 1\n",
    "y_trans = mm.fit_transform(y.reshape(-1, 1)) # reshapes y to 'add' dimension, scales all values to range between 0 and 1"
   ],
   "id": "6acab96322261047",
   "outputs": [],
   "execution_count": 263
  },
  {
   "metadata": {
    "ExecuteTime": {
     "end_time": "2024-11-13T22:55:34.133115Z",
     "start_time": "2024-11-13T22:55:34.127123Z"
    }
   },
   "cell_type": "code",
   "source": "import numpy as np",
   "id": "5c1974e1d09c62eb",
   "outputs": [],
   "execution_count": 264
  },
  {
   "metadata": {
    "ExecuteTime": {
     "end_time": "2024-11-13T22:55:34.193997Z",
     "start_time": "2024-11-13T22:55:34.179286Z"
    }
   },
   "cell_type": "code",
   "source": [
    "# we split up the dataset so that we can pass it to the LSTM as a 'sequence'\n",
    "def split_sequence(input_sequences, output_sequence, n_steps_in, n_steps_out):\n",
    "    \"\"\"function to split up x_train, y_train, x_test, y_test \n",
    "    to be able to be recieved by our LSTM model\"\"\"\n",
    "    x, y = list(), list()\n",
    "    for i in range(len(input_sequences)):\n",
    "        \n",
    "        # we find the end of the input and output so we can determine (since the dataset isn't by default divisible by the sequence length) \n",
    "        end_index = i + n_steps_in\n",
    "        out_end_index = end_index + n_steps_out - 1\n",
    "        \n",
    "        if out_end_index > len(input_sequences): break\n",
    "        \n",
    "        x_seq, y_seq = input_sequences[i:end_index], output_sequence[end_index-1:out_end_index, -1]\n",
    "        x.append(x_seq)\n",
    "        y.append(y_seq)\n",
    "    return np.array(x), np.array(y)"
   ],
   "id": "6a9f6f0e9c2644b",
   "outputs": [],
   "execution_count": 265
  },
  {
   "metadata": {
    "ExecuteTime": {
     "end_time": "2024-11-13T22:55:34.458109Z",
     "start_time": "2024-11-13T22:55:34.438864Z"
    }
   },
   "cell_type": "code",
   "source": [
    "x_ss, y_mm = split_sequence(x_trans, y_trans, 100, num_classes)\n",
    "print(x_ss.shape, y_mm.shape)"
   ],
   "id": "170dd1ad5935b47c",
   "outputs": [
    {
     "name": "stdout",
     "output_type": "stream",
     "text": [
      "(3561, 100, 4) (3561, 50)\n"
     ]
    }
   ],
   "execution_count": 266
  },
  {
   "metadata": {
    "ExecuteTime": {
     "end_time": "2024-11-13T22:55:34.694801Z",
     "start_time": "2024-11-13T22:55:34.689178Z"
    }
   },
   "cell_type": "code",
   "source": "# hmmm, seems to chop off the last bit (would that be the most recent data?) Could possible improvement include making this sequence but in reverse?",
   "id": "b20c5522db5232e0",
   "outputs": [],
   "execution_count": 267
  },
  {
   "metadata": {
    "ExecuteTime": {
     "end_time": "2024-11-13T22:55:34.980742Z",
     "start_time": "2024-11-13T22:55:34.971439Z"
    }
   },
   "cell_type": "code",
   "source": "y_mm[0]",
   "id": "829606225b2c33cd",
   "outputs": [
    {
     "data": {
      "text/plain": [
       "array([0.0016709 , 0.00177663, 0.00163361, 0.00164993, 0.00159575,\n",
       "       0.00157282, 0.00168496, 0.00161447, 0.00162375, 0.00122116,\n",
       "       0.00102091, 0.0011428 , 0.00128172, 0.00137835, 0.00124805,\n",
       "       0.00133175, 0.00114662, 0.00103828, 0.00106361, 0.00056633,\n",
       "       0.        , 0.0003764 , 0.00035568, 0.00025089, 0.00038227,\n",
       "       0.00043589, 0.00039384, 0.00057862, 0.0006558 , 0.00064955,\n",
       "       0.00082705, 0.00089667, 0.00113093, 0.00101237, 0.00066184,\n",
       "       0.00065707, 0.00057302, 0.00046676, 0.00057951, 0.000713  ,\n",
       "       0.00058302, 0.0005781 , 0.00046257, 0.0005237 , 0.00058878,\n",
       "       0.00053729, 0.00049813, 0.00049492, 0.00048717, 0.00051775])"
      ]
     },
     "execution_count": 268,
     "metadata": {},
     "output_type": "execute_result"
    }
   ],
   "execution_count": 268
  },
  {
   "metadata": {
    "ExecuteTime": {
     "end_time": "2024-11-13T22:55:35.280824Z",
     "start_time": "2024-11-13T22:55:35.272025Z"
    }
   },
   "cell_type": "code",
   "source": "y_trans[99:149].squeeze(1)",
   "id": "73795b2df02b7542",
   "outputs": [
    {
     "data": {
      "text/plain": [
       "array([0.0016709 , 0.00177663, 0.00163361, 0.00164993, 0.00159575,\n",
       "       0.00157282, 0.00168496, 0.00161447, 0.00162375, 0.00122116,\n",
       "       0.00102091, 0.0011428 , 0.00128172, 0.00137835, 0.00124805,\n",
       "       0.00133175, 0.00114662, 0.00103828, 0.00106361, 0.00056633,\n",
       "       0.        , 0.0003764 , 0.00035568, 0.00025089, 0.00038227,\n",
       "       0.00043589, 0.00039384, 0.00057862, 0.0006558 , 0.00064955,\n",
       "       0.00082705, 0.00089667, 0.00113093, 0.00101237, 0.00066184,\n",
       "       0.00065707, 0.00057302, 0.00046676, 0.00057951, 0.000713  ,\n",
       "       0.00058302, 0.0005781 , 0.00046257, 0.0005237 , 0.00058878,\n",
       "       0.00053729, 0.00049813, 0.00049492, 0.00048717, 0.00051775])"
      ]
     },
     "execution_count": 269,
     "metadata": {},
     "output_type": "execute_result"
    }
   ],
   "execution_count": 269
  },
  {
   "metadata": {
    "ExecuteTime": {
     "end_time": "2024-11-13T22:55:35.537574Z",
     "start_time": "2024-11-13T22:55:35.525225Z"
    }
   },
   "cell_type": "code",
   "source": [
    "total_samples = len(x)\n",
    "train_test_cutoff = round(total_samples * 0.9)\n",
    "\n",
    "x_train = x_ss[:-150]\n",
    "x_test = x_ss[-150:]\n",
    "\n",
    "y_train = y_mm[:-150]\n",
    "y_test = y_mm[-150:]\n",
    "\n",
    "print(\"Training shape:\", x_train.shape, y_train.shape)\n",
    "print(\"Testing shape:\", x_test.shape, y_test.shape)"
   ],
   "id": "5089d2b63a321da3",
   "outputs": [
    {
     "name": "stdout",
     "output_type": "stream",
     "text": [
      "Training shape: (3411, 100, 4) (3411, 50)\n",
      "Testing shape: (150, 100, 4) (150, 50)\n"
     ]
    }
   ],
   "execution_count": 270
  },
  {
   "metadata": {
    "ExecuteTime": {
     "end_time": "2024-11-13T22:55:35.813259Z",
     "start_time": "2024-11-13T22:55:35.783649Z"
    }
   },
   "cell_type": "code",
   "source": [
    "x_train_tensor = torch.Tensor(x_train).cuda()\n",
    "x_test_tensor = torch.Tensor(x_test).cuda()\n",
    "y_train_tensor = torch.Tensor(y_train).cuda()\n",
    "y_test_tensor = torch.Tensor(y_test).cuda()"
   ],
   "id": "90ae891908397bdf",
   "outputs": [],
   "execution_count": 271
  },
  {
   "metadata": {
    "ExecuteTime": {
     "end_time": "2024-11-13T22:55:36.082077Z",
     "start_time": "2024-11-13T22:55:36.070903Z"
    }
   },
   "cell_type": "code",
   "source": [
    "x_train_tensors_final = torch.reshape(x_train_tensor,\n",
    "                                      (x_train_tensor.shape[0], 100,\n",
    "                                      x_train_tensor.shape[2])).cuda()\n",
    "x_test_tensors_final = torch.reshape(x_test_tensor,\n",
    "                                     (x_test_tensor.shape[0], 100,\n",
    "                                      x_test_tensor.shape[2])).cuda()\n",
    "\n",
    "print(\"Training shape:\", x_train_tensors_final.shape, x_test_tensors_final.shape)\n",
    "print(\"Testing shape:\", x_test_tensors_final.shape, x_test_tensors_final.shape)"
   ],
   "id": "6eac7875a46ef479",
   "outputs": [
    {
     "name": "stdout",
     "output_type": "stream",
     "text": [
      "Training shape: torch.Size([3411, 100, 4]) torch.Size([150, 100, 4])\n",
      "Testing shape: torch.Size([150, 100, 4]) torch.Size([150, 100, 4])\n"
     ]
    }
   ],
   "execution_count": 272
  },
  {
   "metadata": {
    "ExecuteTime": {
     "end_time": "2024-11-13T22:55:36.333876Z",
     "start_time": "2024-11-13T22:55:36.328283Z"
    }
   },
   "cell_type": "code",
   "source": "device = torch.device('cuda' if torch.cuda.is_available() else 'cpu')",
   "id": "34c95d95e4c90817",
   "outputs": [],
   "execution_count": 273
  },
  {
   "metadata": {
    "ExecuteTime": {
     "end_time": "2024-11-13T22:55:36.649264Z",
     "start_time": "2024-11-13T22:55:36.635398Z"
    }
   },
   "cell_type": "code",
   "source": [
    "class LSTM(nn.Module):\n",
    "    \"\"\"LSTM model class\"\"\"\n",
    "    def __init__(self, input_size, hidden_size, num_classes, num_layers=1, device=device):\n",
    "        \"\"\"initializes a LSTM model \"\"\"\n",
    "        \n",
    "        super(LSTM, self).__init__()\n",
    "        self.hidden_size = hidden_size\n",
    "        self.input_size = input_size\n",
    "        self.num_classes = num_classes #num of classes\n",
    "        self.num_layers = num_layers\n",
    "        # LSTM model \n",
    "        self.lstm = nn.LSTM(input_size=input_size, hidden_size=hidden_size, num_layers=num_layers, batch_first=True, \n",
    "                            dropout=0.2).to(device)\n",
    "        self.fc_1 = nn.Linear(hidden_size, 128).to(device)\n",
    "        self.fc_2 = nn.Linear(128, num_classes).to(device)\n",
    "        self.relu = nn.ReLU()\n",
    "        \n",
    "    def forward(self, x):\n",
    "        # hidden state \n",
    "        h_0 = torch.zeros(self.num_layers, x.size(0), self.hidden_size).cuda()\n",
    "        c_0 = torch.zeros(self.num_layers, x.size(0), self.hidden_size).cuda()\n",
    "        \n",
    "        # propagation\n",
    "        output, (hn, cn) = self.lstm(x, (h_0, c_0)) # input, hidden and internal state\n",
    "        # hn = hn.view(-1, self.hidden_size) # reshaping the data for Dense layer next\n",
    "        out = self.relu(output[:, -1, :]) # apparently you can pass either the output or the hn\n",
    "        # but output seems to work if I have multiple layers and hn doesn't? Maybe I'm just not shaping it correctly? \n",
    "        out = self.fc_1(out) # first dense\n",
    "        out = self.relu(out)\n",
    "        out = self.fc_2(out) # should represent final output \n",
    "        return out"
   ],
   "id": "d1670234eef60092",
   "outputs": [],
   "execution_count": 274
  },
  {
   "metadata": {
    "ExecuteTime": {
     "end_time": "2024-11-13T22:55:36.923412Z",
     "start_time": "2024-11-13T22:55:36.912554Z"
    }
   },
   "cell_type": "code",
   "source": [
    "# define the training function \n",
    "def training_loop(n_epochs, lstm, optimizer, loss_fn, x_train, y_train, x_test, y_test):\n",
    "    for epoch in range(n_epochs):\n",
    "        lstm.train() # puts model in training mode (for our dropout layer this is important)\n",
    "        outputs = lstm(x_train) # forward pass \n",
    "        optimizer.zero_grad() # reseting the gradients to zero before each update (otherwise it does gradient accumulation) \n",
    "        loss = loss_fn(outputs, y_train) # compute loss\n",
    "        loss.backward() # backpropagation \n",
    "        optimizer.step() # update model weights using optimizer function \n",
    "        \n",
    "        # if the optimizer or loss functions aren't explicitly 'tied' to the pytorch model, how does it know?\n",
    "        \n",
    "        lstm.eval() # switches to eval mode to do 'inferences' not training (again, for our dropout layer)\n",
    "        # this implies that the test_loss is different from the loss calculated earlier\n",
    "        test_preds = lstm(x_test)\n",
    "        test_loss = loss_fn(test_preds, y_test)\n",
    "        if epoch % 100 == 0:\n",
    "            print(\"Epoch: %d, train loss: %1.5f, test loss: %1.5f\" % (epoch, \n",
    "                                                                      loss.item(), \n",
    "                                                                      test_loss.item())) \n",
    "        "
   ],
   "id": "c1aa731a41b69955",
   "outputs": [],
   "execution_count": 275
  },
  {
   "metadata": {
    "ExecuteTime": {
     "end_time": "2024-11-13T22:55:37.214974Z",
     "start_time": "2024-11-13T22:55:37.167153Z"
    }
   },
   "cell_type": "code",
   "source": "lstm = LSTM(input_size, hidden_size, num_classes, num_layers)",
   "id": "56da12683fe4e873",
   "outputs": [],
   "execution_count": 276
  },
  {
   "metadata": {
    "ExecuteTime": {
     "end_time": "2024-11-13T22:55:37.496357Z",
     "start_time": "2024-11-13T22:55:37.485592Z"
    }
   },
   "cell_type": "code",
   "source": [
    "# intializing loss and optimizer function\n",
    "loss_fn = torch.nn.MSELoss() # for regression? is this a regression task? \n",
    "optimizer = torch.optim.Adam(lstm.parameters(), lr=learning_rate)"
   ],
   "id": "6212b697ad198bdc",
   "outputs": [],
   "execution_count": 277
  },
  {
   "metadata": {
    "ExecuteTime": {
     "end_time": "2024-11-13T22:56:53.650030Z",
     "start_time": "2024-11-13T22:55:37.752537Z"
    }
   },
   "cell_type": "code",
   "source": "training_loop(n_epochs, lstm, optimizer, loss_fn, x_train=x_train_tensors_final, y_train=y_train_tensor, x_test=x_test_tensors_final, y_test=y_test_tensor)",
   "id": "a4690544e182130a",
   "outputs": [
    {
     "name": "stdout",
     "output_type": "stream",
     "text": [
      "Epoch: 0, train loss: 0.08177, test loss: 0.52069\n"
     ]
    },
    {
     "ename": "KeyboardInterrupt",
     "evalue": "",
     "output_type": "error",
     "traceback": [
      "\u001B[1;31m---------------------------------------------------------------------------\u001B[0m",
      "\u001B[1;31mKeyboardInterrupt\u001B[0m                         Traceback (most recent call last)",
      "Cell \u001B[1;32mIn[278], line 1\u001B[0m\n\u001B[1;32m----> 1\u001B[0m \u001B[43mtraining_loop\u001B[49m\u001B[43m(\u001B[49m\u001B[43mn_epochs\u001B[49m\u001B[43m,\u001B[49m\u001B[43m \u001B[49m\u001B[43mlstm\u001B[49m\u001B[43m,\u001B[49m\u001B[43m \u001B[49m\u001B[43moptimizer\u001B[49m\u001B[43m,\u001B[49m\u001B[43m \u001B[49m\u001B[43mloss_fn\u001B[49m\u001B[43m,\u001B[49m\u001B[43m \u001B[49m\u001B[43mx_train\u001B[49m\u001B[38;5;241;43m=\u001B[39;49m\u001B[43mx_train_tensors_final\u001B[49m\u001B[43m,\u001B[49m\u001B[43m \u001B[49m\u001B[43my_train\u001B[49m\u001B[38;5;241;43m=\u001B[39;49m\u001B[43my_train_tensor\u001B[49m\u001B[43m,\u001B[49m\u001B[43m \u001B[49m\u001B[43mx_test\u001B[49m\u001B[38;5;241;43m=\u001B[39;49m\u001B[43mx_test_tensors_final\u001B[49m\u001B[43m,\u001B[49m\u001B[43m \u001B[49m\u001B[43my_test\u001B[49m\u001B[38;5;241;43m=\u001B[39;49m\u001B[43my_test_tensor\u001B[49m\u001B[43m)\u001B[49m\n",
      "Cell \u001B[1;32mIn[275], line 15\u001B[0m, in \u001B[0;36mtraining_loop\u001B[1;34m(n_epochs, lstm, optimizer, loss_fn, x_train, y_train, x_test, y_test)\u001B[0m\n\u001B[0;32m     13\u001B[0m lstm\u001B[38;5;241m.\u001B[39meval() \u001B[38;5;66;03m# switches to eval mode to do 'inferences' not training (again, for our dropout layer)\u001B[39;00m\n\u001B[0;32m     14\u001B[0m \u001B[38;5;66;03m# this implies that the test_loss is different from the loss calculated earlier\u001B[39;00m\n\u001B[1;32m---> 15\u001B[0m test_preds \u001B[38;5;241m=\u001B[39m \u001B[43mlstm\u001B[49m\u001B[43m(\u001B[49m\u001B[43mx_test\u001B[49m\u001B[43m)\u001B[49m\n\u001B[0;32m     16\u001B[0m test_loss \u001B[38;5;241m=\u001B[39m loss_fn(test_preds, y_test)\n\u001B[0;32m     17\u001B[0m \u001B[38;5;28;01mif\u001B[39;00m epoch \u001B[38;5;241m%\u001B[39m \u001B[38;5;241m100\u001B[39m \u001B[38;5;241m==\u001B[39m \u001B[38;5;241m0\u001B[39m:\n",
      "File \u001B[1;32m~\\PycharmProjects\\personal_projects\\venv\\Lib\\site-packages\\torch\\nn\\modules\\module.py:1736\u001B[0m, in \u001B[0;36mModule._wrapped_call_impl\u001B[1;34m(self, *args, **kwargs)\u001B[0m\n\u001B[0;32m   1734\u001B[0m     \u001B[38;5;28;01mreturn\u001B[39;00m \u001B[38;5;28mself\u001B[39m\u001B[38;5;241m.\u001B[39m_compiled_call_impl(\u001B[38;5;241m*\u001B[39margs, \u001B[38;5;241m*\u001B[39m\u001B[38;5;241m*\u001B[39mkwargs)  \u001B[38;5;66;03m# type: ignore[misc]\u001B[39;00m\n\u001B[0;32m   1735\u001B[0m \u001B[38;5;28;01melse\u001B[39;00m:\n\u001B[1;32m-> 1736\u001B[0m     \u001B[38;5;28;01mreturn\u001B[39;00m \u001B[38;5;28;43mself\u001B[39;49m\u001B[38;5;241;43m.\u001B[39;49m\u001B[43m_call_impl\u001B[49m\u001B[43m(\u001B[49m\u001B[38;5;241;43m*\u001B[39;49m\u001B[43margs\u001B[49m\u001B[43m,\u001B[49m\u001B[43m \u001B[49m\u001B[38;5;241;43m*\u001B[39;49m\u001B[38;5;241;43m*\u001B[39;49m\u001B[43mkwargs\u001B[49m\u001B[43m)\u001B[49m\n",
      "File \u001B[1;32m~\\PycharmProjects\\personal_projects\\venv\\Lib\\site-packages\\torch\\nn\\modules\\module.py:1747\u001B[0m, in \u001B[0;36mModule._call_impl\u001B[1;34m(self, *args, **kwargs)\u001B[0m\n\u001B[0;32m   1742\u001B[0m \u001B[38;5;66;03m# If we don't have any hooks, we want to skip the rest of the logic in\u001B[39;00m\n\u001B[0;32m   1743\u001B[0m \u001B[38;5;66;03m# this function, and just call forward.\u001B[39;00m\n\u001B[0;32m   1744\u001B[0m \u001B[38;5;28;01mif\u001B[39;00m \u001B[38;5;129;01mnot\u001B[39;00m (\u001B[38;5;28mself\u001B[39m\u001B[38;5;241m.\u001B[39m_backward_hooks \u001B[38;5;129;01mor\u001B[39;00m \u001B[38;5;28mself\u001B[39m\u001B[38;5;241m.\u001B[39m_backward_pre_hooks \u001B[38;5;129;01mor\u001B[39;00m \u001B[38;5;28mself\u001B[39m\u001B[38;5;241m.\u001B[39m_forward_hooks \u001B[38;5;129;01mor\u001B[39;00m \u001B[38;5;28mself\u001B[39m\u001B[38;5;241m.\u001B[39m_forward_pre_hooks\n\u001B[0;32m   1745\u001B[0m         \u001B[38;5;129;01mor\u001B[39;00m _global_backward_pre_hooks \u001B[38;5;129;01mor\u001B[39;00m _global_backward_hooks\n\u001B[0;32m   1746\u001B[0m         \u001B[38;5;129;01mor\u001B[39;00m _global_forward_hooks \u001B[38;5;129;01mor\u001B[39;00m _global_forward_pre_hooks):\n\u001B[1;32m-> 1747\u001B[0m     \u001B[38;5;28;01mreturn\u001B[39;00m \u001B[43mforward_call\u001B[49m\u001B[43m(\u001B[49m\u001B[38;5;241;43m*\u001B[39;49m\u001B[43margs\u001B[49m\u001B[43m,\u001B[49m\u001B[43m \u001B[49m\u001B[38;5;241;43m*\u001B[39;49m\u001B[38;5;241;43m*\u001B[39;49m\u001B[43mkwargs\u001B[49m\u001B[43m)\u001B[49m\n\u001B[0;32m   1749\u001B[0m result \u001B[38;5;241m=\u001B[39m \u001B[38;5;28;01mNone\u001B[39;00m\n\u001B[0;32m   1750\u001B[0m called_always_called_hooks \u001B[38;5;241m=\u001B[39m \u001B[38;5;28mset\u001B[39m()\n",
      "Cell \u001B[1;32mIn[274], line 20\u001B[0m, in \u001B[0;36mLSTM.forward\u001B[1;34m(self, x)\u001B[0m\n\u001B[0;32m     18\u001B[0m \u001B[38;5;28;01mdef\u001B[39;00m \u001B[38;5;21mforward\u001B[39m(\u001B[38;5;28mself\u001B[39m, x):\n\u001B[0;32m     19\u001B[0m     \u001B[38;5;66;03m# hidden state \u001B[39;00m\n\u001B[1;32m---> 20\u001B[0m     h_0 \u001B[38;5;241m=\u001B[39m \u001B[43mtorch\u001B[49m\u001B[38;5;241;43m.\u001B[39;49m\u001B[43mzeros\u001B[49m\u001B[43m(\u001B[49m\u001B[38;5;28;43mself\u001B[39;49m\u001B[38;5;241;43m.\u001B[39;49m\u001B[43mnum_layers\u001B[49m\u001B[43m,\u001B[49m\u001B[43m \u001B[49m\u001B[43mx\u001B[49m\u001B[38;5;241;43m.\u001B[39;49m\u001B[43msize\u001B[49m\u001B[43m(\u001B[49m\u001B[38;5;241;43m0\u001B[39;49m\u001B[43m)\u001B[49m\u001B[43m,\u001B[49m\u001B[43m \u001B[49m\u001B[38;5;28;43mself\u001B[39;49m\u001B[38;5;241;43m.\u001B[39;49m\u001B[43mhidden_size\u001B[49m\u001B[43m)\u001B[49m\u001B[38;5;241;43m.\u001B[39;49m\u001B[43mcuda\u001B[49m\u001B[43m(\u001B[49m\u001B[43m)\u001B[49m\n\u001B[0;32m     21\u001B[0m     c_0 \u001B[38;5;241m=\u001B[39m torch\u001B[38;5;241m.\u001B[39mzeros(\u001B[38;5;28mself\u001B[39m\u001B[38;5;241m.\u001B[39mnum_layers, x\u001B[38;5;241m.\u001B[39msize(\u001B[38;5;241m0\u001B[39m), \u001B[38;5;28mself\u001B[39m\u001B[38;5;241m.\u001B[39mhidden_size)\u001B[38;5;241m.\u001B[39mcuda()\n\u001B[0;32m     23\u001B[0m     \u001B[38;5;66;03m# propagation\u001B[39;00m\n",
      "\u001B[1;31mKeyboardInterrupt\u001B[0m: "
     ]
    }
   ],
   "execution_count": 278
  },
  {
   "metadata": {},
   "cell_type": "code",
   "source": [
    "df_x_ss = ss.transform(btc.drop(columns=['Close'])) # old transformers\n",
    "# del df_x_ss[\"Dividends\"]\n",
    "# del df_x_ss[\"Stock Splits\"]"
   ],
   "id": "5c197bcf67c789ac",
   "outputs": [],
   "execution_count": null
  },
  {
   "metadata": {},
   "cell_type": "code",
   "source": [
    "\n",
    "df_y_mm = mm.transform(btc.Close.values.reshape(-1, 1)) # old transformers\n",
    "\n",
    "# split the sequence\n",
    "df_x_ss, df_y_mm = split_sequence(df_x_ss, df_y_mm, 100, 50)\n",
    "\n",
    "\n",
    "#converting to tensors\n",
    "df_x_ss = torch.Tensor(df_x_ss)\n",
    "df_y_mm = torch.Tensor(df_y_mm)\n",
    "\n",
    "# reshaping the dataset\n",
    "df_x_ss = torch.reshape(df_x_ss, (df_x_ss.shape[0], 100, df_x_ss.shape[2])).to(device)\n",
    "\n",
    "train_predict = lstm(df_x_ss) # forward pass\n",
    "data_predict = train_predict.cpu().detach().numpy() # I think this is doing the same thing? not sure\n",
    "\n",
    "dataY_plot = df_y_mm.cpu().detach().numpy()\n",
    "\n",
    "data_predict = mm.inverse_transform(data_predict) # reverse transformation\n",
    "dataY_plot = mm.inverse_transform(dataY_plot)\n",
    "true, preds = [], []\n",
    "\n",
    "for i in range(len(dataY_plot)):\n",
    "    true.append(dataY_plot[i][0])\n",
    "for i in range(len(data_predict)):\n",
    "    preds.append(data_predict[i][0])\n",
    "    \n",
    "plt.figure(figsize=(10, 6))\n",
    "plt.axvline(x=train_test_cutoff, c='r', linestyle='--')\n",
    "\n",
    "plt.plot(true, label='Actual Data')\n",
    "plt.plot(preds, label='Predicted Data')\n",
    "plt.title(\"Time Series Prediction\")\n",
    "\n",
    "plt.legend()\n",
    "plt.savefig(\"whole_plot.png\", dpi=300)\n",
    "\n",
    "plt.show()\n",
    "\n"
   ],
   "id": "c1f6776adf47c7a2",
   "outputs": [],
   "execution_count": null
  },
  {
   "metadata": {},
   "cell_type": "code",
   "source": [
    "test_predict = lstm(x_test_tensors_final[-1].unsqueeze(0)) # get the last sample\n",
    "test_predict = test_predict.cpu().detach().numpy()\n",
    "test_predict = mm.inverse_transform(test_predict)\n",
    "test_predict = test_predict[0].tolist()\n",
    "\n",
    "test_target = y_test_tensor[-1].detach().cpu().numpy() # last sample \n",
    "test_target = mm.inverse_transform(test_target.reshape(1, -1))\n",
    "test_target = test_target[0].tolist()\n",
    "\n",
    "plt.plot(test_target, label='Actual Data')\n",
    "plt.plot(test_predict, label='Predicted Data')\n",
    "plt.savefig('small_plot.png', dpi=300)\n",
    "plt.show()"
   ],
   "id": "25fe1a47d8151edb",
   "outputs": [],
   "execution_count": null
  },
  {
   "metadata": {},
   "cell_type": "code",
   "source": [
    "plt.figure(figsize=(10,6)) #plotting\n",
    "a = [x for x in range(2500, len(y))]\n",
    "plt.plot(a, y[2500:], label='Actual data')\n",
    "c = [x for x in range(len(y)-50, len(y))]\n",
    "plt.plot(c, test_predict, label='One-shot multi-step prediction (50 days)')\n",
    "plt.axvline(x=len(y)-50, c='r', linestyle='--')\n",
    "plt.legend()\n",
    "plt.show()"
   ],
   "id": "6d149230c5d87c26",
   "outputs": [],
   "execution_count": null
  },
  {
   "metadata": {},
   "cell_type": "code",
   "source": "",
   "id": "a0b2aac7ffd2be54",
   "outputs": [],
   "execution_count": null
  }
 ],
 "metadata": {
  "kernelspec": {
   "display_name": "Python 3",
   "language": "python",
   "name": "python3"
  },
  "language_info": {
   "codemirror_mode": {
    "name": "ipython",
    "version": 2
   },
   "file_extension": ".py",
   "mimetype": "text/x-python",
   "name": "python",
   "nbconvert_exporter": "python",
   "pygments_lexer": "ipython2",
   "version": "2.7.6"
  }
 },
 "nbformat": 4,
 "nbformat_minor": 5
}
