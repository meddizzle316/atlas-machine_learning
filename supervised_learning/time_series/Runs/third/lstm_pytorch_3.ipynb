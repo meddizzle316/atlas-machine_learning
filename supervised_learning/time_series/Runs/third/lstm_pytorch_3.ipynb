{
 "cells": [
  {
   "cell_type": "code",
   "id": "initial_id",
   "metadata": {
    "collapsed": true,
    "ExecuteTime": {
     "end_time": "2024-11-14T01:47:26.324538Z",
     "start_time": "2024-11-14T01:47:26.321667Z"
    }
   },
   "source": [
    "import yfinance as yf\n",
    "import os\n",
    "import pandas as pd\n",
    "import torch \n",
    "import torch.nn as nn\n",
    "\n"
   ],
   "outputs": [],
   "execution_count": 27
  },
  {
   "metadata": {
    "ExecuteTime": {
     "end_time": "2024-11-14T01:47:26.672248Z",
     "start_time": "2024-11-14T01:47:26.661677Z"
    }
   },
   "cell_type": "code",
   "source": "btc = pd.read_csv(\"merged_btc.csv\")",
   "id": "463903d804ac4bca",
   "outputs": [],
   "execution_count": 28
  },
  {
   "metadata": {
    "ExecuteTime": {
     "end_time": "2024-11-14T01:47:27.176974Z",
     "start_time": "2024-11-14T01:47:27.168184Z"
    }
   },
   "cell_type": "code",
   "source": "btc",
   "id": "c01028303eaaa641",
   "outputs": [
    {
     "data": {
      "text/plain": [
       "                     Unnamed: 0          open          high           low  \\\n",
       "0     2014-09-17 00:00:00+00:00    465.864014    468.174011    452.421997   \n",
       "1     2014-09-18 00:00:00+00:00    456.859985    456.859985    413.104004   \n",
       "2     2014-09-19 00:00:00+00:00    424.102997    427.834991    384.532013   \n",
       "3     2014-09-20 00:00:00+00:00    394.673004    423.295990    389.882996   \n",
       "4     2014-09-21 00:00:00+00:00    408.084991    412.425995    393.181000   \n",
       "...                         ...           ...           ...           ...   \n",
       "3704  2024-11-07 00:00:00+00:00  75637.085938  76943.117188  74480.421875   \n",
       "3705  2024-11-08 00:00:00+00:00  75902.835938  77252.750000  75648.742188   \n",
       "3706  2024-11-09 00:00:00+00:00  76556.187500  76932.765625  75773.789062   \n",
       "3707  2024-11-10 00:00:00+00:00  76775.546875  81474.421875  76565.429688   \n",
       "3708  2024-11-11 00:00:00+00:00  80444.125000  84961.062500  80444.125000   \n",
       "\n",
       "             close       volume  edit_count  sentiment  neg_sentiment  \\\n",
       "0       457.334015     21056800    5.033333  -0.232191       0.532718   \n",
       "1       424.440002     34483200    5.066667  -0.232760       0.532718   \n",
       "2       394.795990     37919700    5.200000  -0.235415       0.549385   \n",
       "3       408.903992     36863600    5.200000  -0.233185       0.549385   \n",
       "4       398.821014     26580100    5.233333  -0.204017       0.532718   \n",
       "...            ...          ...         ...        ...            ...   \n",
       "3704  75904.859375  63467654989    0.266667  -0.004846       0.066667   \n",
       "3705  76545.476562  55176858003    0.266667  -0.004846       0.066667   \n",
       "3706  76778.867188  29009480361    0.300000   0.028332       0.066667   \n",
       "3707  80474.187500  82570594495    0.433333   0.009679       0.091667   \n",
       "3708  84506.726562  93990379520    0.400000   0.042980       0.058333   \n",
       "\n",
       "          tomorrow  target  \n",
       "0       424.440002       0  \n",
       "1       394.795990       0  \n",
       "2       408.903992       1  \n",
       "3       398.821014       0  \n",
       "4       402.152008       1  \n",
       "...            ...     ...  \n",
       "3704  76545.476562       1  \n",
       "3705  76778.867188       1  \n",
       "3706  80474.187500       1  \n",
       "3707  84506.726562       1  \n",
       "3708           NaN       0  \n",
       "\n",
       "[3709 rows x 11 columns]"
      ],
      "text/html": [
       "<div>\n",
       "<style scoped>\n",
       "    .dataframe tbody tr th:only-of-type {\n",
       "        vertical-align: middle;\n",
       "    }\n",
       "\n",
       "    .dataframe tbody tr th {\n",
       "        vertical-align: top;\n",
       "    }\n",
       "\n",
       "    .dataframe thead th {\n",
       "        text-align: right;\n",
       "    }\n",
       "</style>\n",
       "<table border=\"1\" class=\"dataframe\">\n",
       "  <thead>\n",
       "    <tr style=\"text-align: right;\">\n",
       "      <th></th>\n",
       "      <th>Unnamed: 0</th>\n",
       "      <th>open</th>\n",
       "      <th>high</th>\n",
       "      <th>low</th>\n",
       "      <th>close</th>\n",
       "      <th>volume</th>\n",
       "      <th>edit_count</th>\n",
       "      <th>sentiment</th>\n",
       "      <th>neg_sentiment</th>\n",
       "      <th>tomorrow</th>\n",
       "      <th>target</th>\n",
       "    </tr>\n",
       "  </thead>\n",
       "  <tbody>\n",
       "    <tr>\n",
       "      <th>0</th>\n",
       "      <td>2014-09-17 00:00:00+00:00</td>\n",
       "      <td>465.864014</td>\n",
       "      <td>468.174011</td>\n",
       "      <td>452.421997</td>\n",
       "      <td>457.334015</td>\n",
       "      <td>21056800</td>\n",
       "      <td>5.033333</td>\n",
       "      <td>-0.232191</td>\n",
       "      <td>0.532718</td>\n",
       "      <td>424.440002</td>\n",
       "      <td>0</td>\n",
       "    </tr>\n",
       "    <tr>\n",
       "      <th>1</th>\n",
       "      <td>2014-09-18 00:00:00+00:00</td>\n",
       "      <td>456.859985</td>\n",
       "      <td>456.859985</td>\n",
       "      <td>413.104004</td>\n",
       "      <td>424.440002</td>\n",
       "      <td>34483200</td>\n",
       "      <td>5.066667</td>\n",
       "      <td>-0.232760</td>\n",
       "      <td>0.532718</td>\n",
       "      <td>394.795990</td>\n",
       "      <td>0</td>\n",
       "    </tr>\n",
       "    <tr>\n",
       "      <th>2</th>\n",
       "      <td>2014-09-19 00:00:00+00:00</td>\n",
       "      <td>424.102997</td>\n",
       "      <td>427.834991</td>\n",
       "      <td>384.532013</td>\n",
       "      <td>394.795990</td>\n",
       "      <td>37919700</td>\n",
       "      <td>5.200000</td>\n",
       "      <td>-0.235415</td>\n",
       "      <td>0.549385</td>\n",
       "      <td>408.903992</td>\n",
       "      <td>1</td>\n",
       "    </tr>\n",
       "    <tr>\n",
       "      <th>3</th>\n",
       "      <td>2014-09-20 00:00:00+00:00</td>\n",
       "      <td>394.673004</td>\n",
       "      <td>423.295990</td>\n",
       "      <td>389.882996</td>\n",
       "      <td>408.903992</td>\n",
       "      <td>36863600</td>\n",
       "      <td>5.200000</td>\n",
       "      <td>-0.233185</td>\n",
       "      <td>0.549385</td>\n",
       "      <td>398.821014</td>\n",
       "      <td>0</td>\n",
       "    </tr>\n",
       "    <tr>\n",
       "      <th>4</th>\n",
       "      <td>2014-09-21 00:00:00+00:00</td>\n",
       "      <td>408.084991</td>\n",
       "      <td>412.425995</td>\n",
       "      <td>393.181000</td>\n",
       "      <td>398.821014</td>\n",
       "      <td>26580100</td>\n",
       "      <td>5.233333</td>\n",
       "      <td>-0.204017</td>\n",
       "      <td>0.532718</td>\n",
       "      <td>402.152008</td>\n",
       "      <td>1</td>\n",
       "    </tr>\n",
       "    <tr>\n",
       "      <th>...</th>\n",
       "      <td>...</td>\n",
       "      <td>...</td>\n",
       "      <td>...</td>\n",
       "      <td>...</td>\n",
       "      <td>...</td>\n",
       "      <td>...</td>\n",
       "      <td>...</td>\n",
       "      <td>...</td>\n",
       "      <td>...</td>\n",
       "      <td>...</td>\n",
       "      <td>...</td>\n",
       "    </tr>\n",
       "    <tr>\n",
       "      <th>3704</th>\n",
       "      <td>2024-11-07 00:00:00+00:00</td>\n",
       "      <td>75637.085938</td>\n",
       "      <td>76943.117188</td>\n",
       "      <td>74480.421875</td>\n",
       "      <td>75904.859375</td>\n",
       "      <td>63467654989</td>\n",
       "      <td>0.266667</td>\n",
       "      <td>-0.004846</td>\n",
       "      <td>0.066667</td>\n",
       "      <td>76545.476562</td>\n",
       "      <td>1</td>\n",
       "    </tr>\n",
       "    <tr>\n",
       "      <th>3705</th>\n",
       "      <td>2024-11-08 00:00:00+00:00</td>\n",
       "      <td>75902.835938</td>\n",
       "      <td>77252.750000</td>\n",
       "      <td>75648.742188</td>\n",
       "      <td>76545.476562</td>\n",
       "      <td>55176858003</td>\n",
       "      <td>0.266667</td>\n",
       "      <td>-0.004846</td>\n",
       "      <td>0.066667</td>\n",
       "      <td>76778.867188</td>\n",
       "      <td>1</td>\n",
       "    </tr>\n",
       "    <tr>\n",
       "      <th>3706</th>\n",
       "      <td>2024-11-09 00:00:00+00:00</td>\n",
       "      <td>76556.187500</td>\n",
       "      <td>76932.765625</td>\n",
       "      <td>75773.789062</td>\n",
       "      <td>76778.867188</td>\n",
       "      <td>29009480361</td>\n",
       "      <td>0.300000</td>\n",
       "      <td>0.028332</td>\n",
       "      <td>0.066667</td>\n",
       "      <td>80474.187500</td>\n",
       "      <td>1</td>\n",
       "    </tr>\n",
       "    <tr>\n",
       "      <th>3707</th>\n",
       "      <td>2024-11-10 00:00:00+00:00</td>\n",
       "      <td>76775.546875</td>\n",
       "      <td>81474.421875</td>\n",
       "      <td>76565.429688</td>\n",
       "      <td>80474.187500</td>\n",
       "      <td>82570594495</td>\n",
       "      <td>0.433333</td>\n",
       "      <td>0.009679</td>\n",
       "      <td>0.091667</td>\n",
       "      <td>84506.726562</td>\n",
       "      <td>1</td>\n",
       "    </tr>\n",
       "    <tr>\n",
       "      <th>3708</th>\n",
       "      <td>2024-11-11 00:00:00+00:00</td>\n",
       "      <td>80444.125000</td>\n",
       "      <td>84961.062500</td>\n",
       "      <td>80444.125000</td>\n",
       "      <td>84506.726562</td>\n",
       "      <td>93990379520</td>\n",
       "      <td>0.400000</td>\n",
       "      <td>0.042980</td>\n",
       "      <td>0.058333</td>\n",
       "      <td>NaN</td>\n",
       "      <td>0</td>\n",
       "    </tr>\n",
       "  </tbody>\n",
       "</table>\n",
       "<p>3709 rows × 11 columns</p>\n",
       "</div>"
      ]
     },
     "execution_count": 29,
     "metadata": {},
     "output_type": "execute_result"
    }
   ],
   "execution_count": 29
  },
  {
   "metadata": {
    "ExecuteTime": {
     "end_time": "2024-11-14T01:56:59.212525Z",
     "start_time": "2024-11-14T01:56:59.208477Z"
    }
   },
   "cell_type": "code",
   "source": [
    "import warnings\n",
    "warnings.filterwarnings(\"ignore\") # why have I never done this before?\n",
    "\n",
    "n_epochs = 1000\n",
    "learning_rate = 0.001\n",
    "\n",
    "input_size = 9\n",
    "hidden_size = 128 # number of features in hidden state\n",
    "num_layers =1 # number of stacked lstm layers\n",
    "\n",
    "num_classes = 9 # number of output classes (Why do we have fifty here?) "
   ],
   "id": "c52e0e653a8edb6a",
   "outputs": [],
   "execution_count": 78
  },
  {
   "metadata": {
    "ExecuteTime": {
     "end_time": "2024-11-14T01:47:29.108216Z",
     "start_time": "2024-11-14T01:47:29.102139Z"
    }
   },
   "cell_type": "code",
   "source": [
    "btc[\"tomorrow\"] = btc[\"close\"].shift(-1)\n",
    "btc[\"target\"] = (btc[\"tomorrow\"] > btc[\"close\"]).astype(int)\n",
    "btc[\"target\"].value_counts()"
   ],
   "id": "1de26dc8609f881e",
   "outputs": [
    {
     "data": {
      "text/plain": [
       "target\n",
       "1    1961\n",
       "0    1748\n",
       "Name: count, dtype: int64"
      ]
     },
     "execution_count": 31,
     "metadata": {},
     "output_type": "execute_result"
    }
   ],
   "execution_count": 31
  },
  {
   "metadata": {
    "ExecuteTime": {
     "end_time": "2024-11-14T01:47:29.826111Z",
     "start_time": "2024-11-14T01:47:29.673010Z"
    }
   },
   "cell_type": "code",
   "source": [
    "# plotting initial dataset\n",
    "import matplotlib.pyplot as plt\n",
    "\n",
    "plt.plot(btc.close)\n",
    "plt.xlabel(\"Time\")\n",
    "plt.ylabel(\"Price\")\n",
    "plt.title(\"Bitcoin Prices\")\n",
    "plt.savefig(\"init_plot.png\", dpi=250)\n",
    "plt.show()"
   ],
   "id": "60f1998ca051cdf6",
   "outputs": [
    {
     "data": {
      "text/plain": [
       "<Figure size 640x480 with 1 Axes>"
      ],
      "image/png": "[encoded data removed]"
     },
     "metadata": {},
     "output_type": "display_data"
    }
   ],
   "execution_count": 32
  },
  {
   "metadata": {
    "ExecuteTime": {
     "end_time": "2024-11-14T01:47:31.707302Z",
     "start_time": "2024-11-14T01:47:31.702405Z"
    }
   },
   "cell_type": "code",
   "source": "btc = btc.rename(columns={\"Unnamed: 0\": 'datetime'})",
   "id": "838faafb159203cb",
   "outputs": [],
   "execution_count": 36
  },
  {
   "metadata": {
    "ExecuteTime": {
     "end_time": "2024-11-14T01:47:32.662294Z",
     "start_time": "2024-11-14T01:47:32.648445Z"
    }
   },
   "cell_type": "code",
   "source": [
    "btc['datetime'] = pd.to_datetime(btc['datetime'])\n",
    "btc"
   ],
   "id": "7cb06451c748f3ba",
   "outputs": [
    {
     "data": {
      "text/plain": [
       "                      datetime          open          high           low  \\\n",
       "0    2014-09-17 00:00:00+00:00    465.864014    468.174011    452.421997   \n",
       "1    2014-09-18 00:00:00+00:00    456.859985    456.859985    413.104004   \n",
       "2    2014-09-19 00:00:00+00:00    424.102997    427.834991    384.532013   \n",
       "3    2014-09-20 00:00:00+00:00    394.673004    423.295990    389.882996   \n",
       "4    2014-09-21 00:00:00+00:00    408.084991    412.425995    393.181000   \n",
       "...                        ...           ...           ...           ...   \n",
       "3704 2024-11-07 00:00:00+00:00  75637.085938  76943.117188  74480.421875   \n",
       "3705 2024-11-08 00:00:00+00:00  75902.835938  77252.750000  75648.742188   \n",
       "3706 2024-11-09 00:00:00+00:00  76556.187500  76932.765625  75773.789062   \n",
       "3707 2024-11-10 00:00:00+00:00  76775.546875  81474.421875  76565.429688   \n",
       "3708 2024-11-11 00:00:00+00:00  80444.125000  84961.062500  80444.125000   \n",
       "\n",
       "             close       volume  edit_count  sentiment  neg_sentiment  \\\n",
       "0       457.334015     21056800    5.033333  -0.232191       0.532718   \n",
       "1       424.440002     34483200    5.066667  -0.232760       0.532718   \n",
       "2       394.795990     37919700    5.200000  -0.235415       0.549385   \n",
       "3       408.903992     36863600    5.200000  -0.233185       0.549385   \n",
       "4       398.821014     26580100    5.233333  -0.204017       0.532718   \n",
       "...            ...          ...         ...        ...            ...   \n",
       "3704  75904.859375  63467654989    0.266667  -0.004846       0.066667   \n",
       "3705  76545.476562  55176858003    0.266667  -0.004846       0.066667   \n",
       "3706  76778.867188  29009480361    0.300000   0.028332       0.066667   \n",
       "3707  80474.187500  82570594495    0.433333   0.009679       0.091667   \n",
       "3708  84506.726562  93990379520    0.400000   0.042980       0.058333   \n",
       "\n",
       "          tomorrow  target  \n",
       "0       424.440002       0  \n",
       "1       394.795990       0  \n",
       "2       408.903992       1  \n",
       "3       398.821014       0  \n",
       "4       402.152008       1  \n",
       "...            ...     ...  \n",
       "3704  76545.476562       1  \n",
       "3705  76778.867188       1  \n",
       "3706  80474.187500       1  \n",
       "3707  84506.726562       1  \n",
       "3708           NaN       0  \n",
       "\n",
       "[3709 rows x 11 columns]"
      ],
      "text/html": [
       "<div>\n",
       "<style scoped>\n",
       "    .dataframe tbody tr th:only-of-type {\n",
       "        vertical-align: middle;\n",
       "    }\n",
       "\n",
       "    .dataframe tbody tr th {\n",
       "        vertical-align: top;\n",
       "    }\n",
       "\n",
       "    .dataframe thead th {\n",
       "        text-align: right;\n",
       "    }\n",
       "</style>\n",
       "<table border=\"1\" class=\"dataframe\">\n",
       "  <thead>\n",
       "    <tr style=\"text-align: right;\">\n",
       "      <th></th>\n",
       "      <th>datetime</th>\n",
       "      <th>open</th>\n",
       "      <th>high</th>\n",
       "      <th>low</th>\n",
       "      <th>close</th>\n",
       "      <th>volume</th>\n",
       "      <th>edit_count</th>\n",
       "      <th>sentiment</th>\n",
       "      <th>neg_sentiment</th>\n",
       "      <th>tomorrow</th>\n",
       "      <th>target</th>\n",
       "    </tr>\n",
       "  </thead>\n",
       "  <tbody>\n",
       "    <tr>\n",
       "      <th>0</th>\n",
       "      <td>2014-09-17 00:00:00+00:00</td>\n",
       "      <td>465.864014</td>\n",
       "      <td>468.174011</td>\n",
       "      <td>452.421997</td>\n",
       "      <td>457.334015</td>\n",
       "      <td>21056800</td>\n",
       "      <td>5.033333</td>\n",
       "      <td>-0.232191</td>\n",
       "      <td>0.532718</td>\n",
       "      <td>424.440002</td>\n",
       "      <td>0</td>\n",
       "    </tr>\n",
       "    <tr>\n",
       "      <th>1</th>\n",
       "      <td>2014-09-18 00:00:00+00:00</td>\n",
       "      <td>456.859985</td>\n",
       "      <td>456.859985</td>\n",
       "      <td>413.104004</td>\n",
       "      <td>424.440002</td>\n",
       "      <td>34483200</td>\n",
       "      <td>5.066667</td>\n",
       "      <td>-0.232760</td>\n",
       "      <td>0.532718</td>\n",
       "      <td>394.795990</td>\n",
       "      <td>0</td>\n",
       "    </tr>\n",
       "    <tr>\n",
       "      <th>2</th>\n",
       "      <td>2014-09-19 00:00:00+00:00</td>\n",
       "      <td>424.102997</td>\n",
       "      <td>427.834991</td>\n",
       "      <td>384.532013</td>\n",
       "      <td>394.795990</td>\n",
       "      <td>37919700</td>\n",
       "      <td>5.200000</td>\n",
       "      <td>-0.235415</td>\n",
       "      <td>0.549385</td>\n",
       "      <td>408.903992</td>\n",
       "      <td>1</td>\n",
       "    </tr>\n",
       "    <tr>\n",
       "      <th>3</th>\n",
       "      <td>2014-09-20 00:00:00+00:00</td>\n",
       "      <td>394.673004</td>\n",
       "      <td>423.295990</td>\n",
       "      <td>389.882996</td>\n",
       "      <td>408.903992</td>\n",
       "      <td>36863600</td>\n",
       "      <td>5.200000</td>\n",
       "      <td>-0.233185</td>\n",
       "      <td>0.549385</td>\n",
       "      <td>398.821014</td>\n",
       "      <td>0</td>\n",
       "    </tr>\n",
       "    <tr>\n",
       "      <th>4</th>\n",
       "      <td>2014-09-21 00:00:00+00:00</td>\n",
       "      <td>408.084991</td>\n",
       "      <td>412.425995</td>\n",
       "      <td>393.181000</td>\n",
       "      <td>398.821014</td>\n",
       "      <td>26580100</td>\n",
       "      <td>5.233333</td>\n",
       "      <td>-0.204017</td>\n",
       "      <td>0.532718</td>\n",
       "      <td>402.152008</td>\n",
       "      <td>1</td>\n",
       "    </tr>\n",
       "    <tr>\n",
       "      <th>...</th>\n",
       "      <td>...</td>\n",
       "      <td>...</td>\n",
       "      <td>...</td>\n",
       "      <td>...</td>\n",
       "      <td>...</td>\n",
       "      <td>...</td>\n",
       "      <td>...</td>\n",
       "      <td>...</td>\n",
       "      <td>...</td>\n",
       "      <td>...</td>\n",
       "      <td>...</td>\n",
       "    </tr>\n",
       "    <tr>\n",
       "      <th>3704</th>\n",
       "      <td>2024-11-07 00:00:00+00:00</td>\n",
       "      <td>75637.085938</td>\n",
       "      <td>76943.117188</td>\n",
       "      <td>74480.421875</td>\n",
       "      <td>75904.859375</td>\n",
       "      <td>63467654989</td>\n",
       "      <td>0.266667</td>\n",
       "      <td>-0.004846</td>\n",
       "      <td>0.066667</td>\n",
       "      <td>76545.476562</td>\n",
       "      <td>1</td>\n",
       "    </tr>\n",
       "    <tr>\n",
       "      <th>3705</th>\n",
       "      <td>2024-11-08 00:00:00+00:00</td>\n",
       "      <td>75902.835938</td>\n",
       "      <td>77252.750000</td>\n",
       "      <td>75648.742188</td>\n",
       "      <td>76545.476562</td>\n",
       "      <td>55176858003</td>\n",
       "      <td>0.266667</td>\n",
       "      <td>-0.004846</td>\n",
       "      <td>0.066667</td>\n",
       "      <td>76778.867188</td>\n",
       "      <td>1</td>\n",
       "    </tr>\n",
       "    <tr>\n",
       "      <th>3706</th>\n",
       "      <td>2024-11-09 00:00:00+00:00</td>\n",
       "      <td>76556.187500</td>\n",
       "      <td>76932.765625</td>\n",
       "      <td>75773.789062</td>\n",
       "      <td>76778.867188</td>\n",
       "      <td>29009480361</td>\n",
       "      <td>0.300000</td>\n",
       "      <td>0.028332</td>\n",
       "      <td>0.066667</td>\n",
       "      <td>80474.187500</td>\n",
       "      <td>1</td>\n",
       "    </tr>\n",
       "    <tr>\n",
       "      <th>3707</th>\n",
       "      <td>2024-11-10 00:00:00+00:00</td>\n",
       "      <td>76775.546875</td>\n",
       "      <td>81474.421875</td>\n",
       "      <td>76565.429688</td>\n",
       "      <td>80474.187500</td>\n",
       "      <td>82570594495</td>\n",
       "      <td>0.433333</td>\n",
       "      <td>0.009679</td>\n",
       "      <td>0.091667</td>\n",
       "      <td>84506.726562</td>\n",
       "      <td>1</td>\n",
       "    </tr>\n",
       "    <tr>\n",
       "      <th>3708</th>\n",
       "      <td>2024-11-11 00:00:00+00:00</td>\n",
       "      <td>80444.125000</td>\n",
       "      <td>84961.062500</td>\n",
       "      <td>80444.125000</td>\n",
       "      <td>84506.726562</td>\n",
       "      <td>93990379520</td>\n",
       "      <td>0.400000</td>\n",
       "      <td>0.042980</td>\n",
       "      <td>0.058333</td>\n",
       "      <td>NaN</td>\n",
       "      <td>0</td>\n",
       "    </tr>\n",
       "  </tbody>\n",
       "</table>\n",
       "<p>3709 rows × 11 columns</p>\n",
       "</div>"
      ]
     },
     "execution_count": 37,
     "metadata": {},
     "output_type": "execute_result"
    }
   ],
   "execution_count": 37
  },
  {
   "metadata": {
    "ExecuteTime": {
     "end_time": "2024-11-14T01:47:33.428473Z",
     "start_time": "2024-11-14T01:47:33.425085Z"
    }
   },
   "cell_type": "code",
   "source": "btc['datetime'] = btc['datetime'].astype(int) / 10**9",
   "id": "c6666a94833d6485",
   "outputs": [],
   "execution_count": 38
  },
  {
   "metadata": {
    "ExecuteTime": {
     "end_time": "2024-11-14T01:47:34.015746Z",
     "start_time": "2024-11-14T01:47:34.007714Z"
    }
   },
   "cell_type": "code",
   "source": "btc",
   "id": "8fd7cfa6d56ac87a",
   "outputs": [
    {
     "data": {
      "text/plain": [
       "          datetime          open          high           low         close  \\\n",
       "0     1.410912e+09    465.864014    468.174011    452.421997    457.334015   \n",
       "1     1.410998e+09    456.859985    456.859985    413.104004    424.440002   \n",
       "2     1.411085e+09    424.102997    427.834991    384.532013    394.795990   \n",
       "3     1.411171e+09    394.673004    423.295990    389.882996    408.903992   \n",
       "4     1.411258e+09    408.084991    412.425995    393.181000    398.821014   \n",
       "...            ...           ...           ...           ...           ...   \n",
       "3704  1.730938e+09  75637.085938  76943.117188  74480.421875  75904.859375   \n",
       "3705  1.731024e+09  75902.835938  77252.750000  75648.742188  76545.476562   \n",
       "3706  1.731110e+09  76556.187500  76932.765625  75773.789062  76778.867188   \n",
       "3707  1.731197e+09  76775.546875  81474.421875  76565.429688  80474.187500   \n",
       "3708  1.731283e+09  80444.125000  84961.062500  80444.125000  84506.726562   \n",
       "\n",
       "           volume  edit_count  sentiment  neg_sentiment      tomorrow  target  \n",
       "0        21056800    5.033333  -0.232191       0.532718    424.440002       0  \n",
       "1        34483200    5.066667  -0.232760       0.532718    394.795990       0  \n",
       "2        37919700    5.200000  -0.235415       0.549385    408.903992       1  \n",
       "3        36863600    5.200000  -0.233185       0.549385    398.821014       0  \n",
       "4        26580100    5.233333  -0.204017       0.532718    402.152008       1  \n",
       "...           ...         ...        ...            ...           ...     ...  \n",
       "3704  63467654989    0.266667  -0.004846       0.066667  76545.476562       1  \n",
       "3705  55176858003    0.266667  -0.004846       0.066667  76778.867188       1  \n",
       "3706  29009480361    0.300000   0.028332       0.066667  80474.187500       1  \n",
       "3707  82570594495    0.433333   0.009679       0.091667  84506.726562       1  \n",
       "3708  93990379520    0.400000   0.042980       0.058333           NaN       0  \n",
       "\n",
       "[3709 rows x 11 columns]"
      ],
      "text/html": [
       "<div>\n",
       "<style scoped>\n",
       "    .dataframe tbody tr th:only-of-type {\n",
       "        vertical-align: middle;\n",
       "    }\n",
       "\n",
       "    .dataframe tbody tr th {\n",
       "        vertical-align: top;\n",
       "    }\n",
       "\n",
       "    .dataframe thead th {\n",
       "        text-align: right;\n",
       "    }\n",
       "</style>\n",
       "<table border=\"1\" class=\"dataframe\">\n",
       "  <thead>\n",
       "    <tr style=\"text-align: right;\">\n",
       "      <th></th>\n",
       "      <th>datetime</th>\n",
       "      <th>open</th>\n",
       "      <th>high</th>\n",
       "      <th>low</th>\n",
       "      <th>close</th>\n",
       "      <th>volume</th>\n",
       "      <th>edit_count</th>\n",
       "      <th>sentiment</th>\n",
       "      <th>neg_sentiment</th>\n",
       "      <th>tomorrow</th>\n",
       "      <th>target</th>\n",
       "    </tr>\n",
       "  </thead>\n",
       "  <tbody>\n",
       "    <tr>\n",
       "      <th>0</th>\n",
       "      <td>1.410912e+09</td>\n",
       "      <td>465.864014</td>\n",
       "      <td>468.174011</td>\n",
       "      <td>452.421997</td>\n",
       "      <td>457.334015</td>\n",
       "      <td>21056800</td>\n",
       "      <td>5.033333</td>\n",
       "      <td>-0.232191</td>\n",
       "      <td>0.532718</td>\n",
       "      <td>424.440002</td>\n",
       "      <td>0</td>\n",
       "    </tr>\n",
       "    <tr>\n",
       "      <th>1</th>\n",
       "      <td>1.410998e+09</td>\n",
       "      <td>456.859985</td>\n",
       "      <td>456.859985</td>\n",
       "      <td>413.104004</td>\n",
       "      <td>424.440002</td>\n",
       "      <td>34483200</td>\n",
       "      <td>5.066667</td>\n",
       "      <td>-0.232760</td>\n",
       "      <td>0.532718</td>\n",
       "      <td>394.795990</td>\n",
       "      <td>0</td>\n",
       "    </tr>\n",
       "    <tr>\n",
       "      <th>2</th>\n",
       "      <td>1.411085e+09</td>\n",
       "      <td>424.102997</td>\n",
       "      <td>427.834991</td>\n",
       "      <td>384.532013</td>\n",
       "      <td>394.795990</td>\n",
       "      <td>37919700</td>\n",
       "      <td>5.200000</td>\n",
       "      <td>-0.235415</td>\n",
       "      <td>0.549385</td>\n",
       "      <td>408.903992</td>\n",
       "      <td>1</td>\n",
       "    </tr>\n",
       "    <tr>\n",
       "      <th>3</th>\n",
       "      <td>1.411171e+09</td>\n",
       "      <td>394.673004</td>\n",
       "      <td>423.295990</td>\n",
       "      <td>389.882996</td>\n",
       "      <td>408.903992</td>\n",
       "      <td>36863600</td>\n",
       "      <td>5.200000</td>\n",
       "      <td>-0.233185</td>\n",
       "      <td>0.549385</td>\n",
       "      <td>398.821014</td>\n",
       "      <td>0</td>\n",
       "    </tr>\n",
       "    <tr>\n",
       "      <th>4</th>\n",
       "      <td>1.411258e+09</td>\n",
       "      <td>408.084991</td>\n",
       "      <td>412.425995</td>\n",
       "      <td>393.181000</td>\n",
       "      <td>398.821014</td>\n",
       "      <td>26580100</td>\n",
       "      <td>5.233333</td>\n",
       "      <td>-0.204017</td>\n",
       "      <td>0.532718</td>\n",
       "      <td>402.152008</td>\n",
       "      <td>1</td>\n",
       "    </tr>\n",
       "    <tr>\n",
       "      <th>...</th>\n",
       "      <td>...</td>\n",
       "      <td>...</td>\n",
       "      <td>...</td>\n",
       "      <td>...</td>\n",
       "      <td>...</td>\n",
       "      <td>...</td>\n",
       "      <td>...</td>\n",
       "      <td>...</td>\n",
       "      <td>...</td>\n",
       "      <td>...</td>\n",
       "      <td>...</td>\n",
       "    </tr>\n",
       "    <tr>\n",
       "      <th>3704</th>\n",
       "      <td>1.730938e+09</td>\n",
       "      <td>75637.085938</td>\n",
       "      <td>76943.117188</td>\n",
       "      <td>74480.421875</td>\n",
       "      <td>75904.859375</td>\n",
       "      <td>63467654989</td>\n",
       "      <td>0.266667</td>\n",
       "      <td>-0.004846</td>\n",
       "      <td>0.066667</td>\n",
       "      <td>76545.476562</td>\n",
       "      <td>1</td>\n",
       "    </tr>\n",
       "    <tr>\n",
       "      <th>3705</th>\n",
       "      <td>1.731024e+09</td>\n",
       "      <td>75902.835938</td>\n",
       "      <td>77252.750000</td>\n",
       "      <td>75648.742188</td>\n",
       "      <td>76545.476562</td>\n",
       "      <td>55176858003</td>\n",
       "      <td>0.266667</td>\n",
       "      <td>-0.004846</td>\n",
       "      <td>0.066667</td>\n",
       "      <td>76778.867188</td>\n",
       "      <td>1</td>\n",
       "    </tr>\n",
       "    <tr>\n",
       "      <th>3706</th>\n",
       "      <td>1.731110e+09</td>\n",
       "      <td>76556.187500</td>\n",
       "      <td>76932.765625</td>\n",
       "      <td>75773.789062</td>\n",
       "      <td>76778.867188</td>\n",
       "      <td>29009480361</td>\n",
       "      <td>0.300000</td>\n",
       "      <td>0.028332</td>\n",
       "      <td>0.066667</td>\n",
       "      <td>80474.187500</td>\n",
       "      <td>1</td>\n",
       "    </tr>\n",
       "    <tr>\n",
       "      <th>3707</th>\n",
       "      <td>1.731197e+09</td>\n",
       "      <td>76775.546875</td>\n",
       "      <td>81474.421875</td>\n",
       "      <td>76565.429688</td>\n",
       "      <td>80474.187500</td>\n",
       "      <td>82570594495</td>\n",
       "      <td>0.433333</td>\n",
       "      <td>0.009679</td>\n",
       "      <td>0.091667</td>\n",
       "      <td>84506.726562</td>\n",
       "      <td>1</td>\n",
       "    </tr>\n",
       "    <tr>\n",
       "      <th>3708</th>\n",
       "      <td>1.731283e+09</td>\n",
       "      <td>80444.125000</td>\n",
       "      <td>84961.062500</td>\n",
       "      <td>80444.125000</td>\n",
       "      <td>84506.726562</td>\n",
       "      <td>93990379520</td>\n",
       "      <td>0.400000</td>\n",
       "      <td>0.042980</td>\n",
       "      <td>0.058333</td>\n",
       "      <td>NaN</td>\n",
       "      <td>0</td>\n",
       "    </tr>\n",
       "  </tbody>\n",
       "</table>\n",
       "<p>3709 rows × 11 columns</p>\n",
       "</div>"
      ]
     },
     "execution_count": 39,
     "metadata": {},
     "output_type": "execute_result"
    }
   ],
   "execution_count": 39
  },
  {
   "metadata": {
    "ExecuteTime": {
     "end_time": "2024-11-14T01:50:39.811882Z",
     "start_time": "2024-11-14T01:50:39.806867Z"
    }
   },
   "cell_type": "code",
   "source": [
    "x, y = btc.drop(columns=['close','target']), btc.close.values\n",
    "x.shape, y.shape"
   ],
   "id": "bdb294c33483b02d",
   "outputs": [
    {
     "data": {
      "text/plain": [
       "((3709, 9), (3709,))"
      ]
     },
     "execution_count": 44,
     "metadata": {},
     "output_type": "execute_result"
    }
   ],
   "execution_count": 44
  },
  {
   "metadata": {
    "ExecuteTime": {
     "end_time": "2024-11-14T01:51:19.305646Z",
     "start_time": "2024-11-14T01:51:19.298259Z"
    }
   },
   "cell_type": "code",
   "source": [
    "from sklearn.preprocessing import MinMaxScaler, StandardScaler\n",
    "mm = MinMaxScaler()\n",
    "ss = StandardScaler()\n",
    "\n",
    "x_trans = ss.fit_transform(x) ## mean of 0, std of 1\n",
    "y_trans = mm.fit_transform(y.reshape(-1, 1)) # reshapes y to 'add' dimension, scales all values to range between 0 and 1"
   ],
   "id": "6acab96322261047",
   "outputs": [],
   "execution_count": 46
  },
  {
   "metadata": {
    "ExecuteTime": {
     "end_time": "2024-11-14T01:51:36.881730Z",
     "start_time": "2024-11-14T01:51:36.878266Z"
    }
   },
   "cell_type": "code",
   "source": "import numpy as np",
   "id": "5c1974e1d09c62eb",
   "outputs": [],
   "execution_count": 47
  },
  {
   "metadata": {
    "ExecuteTime": {
     "end_time": "2024-11-14T01:52:24.684984Z",
     "start_time": "2024-11-14T01:52:24.681658Z"
    }
   },
   "cell_type": "code",
   "source": [
    "# we split up the dataset so that we can pass it to the LSTM as a 'sequence'\n",
    "def split_sequence(input_sequences, output_sequence, n_steps_in, n_steps_out):\n",
    "    \"\"\"function to split up x_train, y_train, x_test, y_test \n",
    "    to be able to be recieved by our LSTM model\"\"\"\n",
    "    x, y = list(), list()\n",
    "    for i in range(len(input_sequences)):\n",
    "        \n",
    "        # we find the end of the input and output so we can determine (since the dataset isn't by default divisible by the sequence length) \n",
    "        end_index = i + n_steps_in\n",
    "        out_end_index = end_index + n_steps_out - 1\n",
    "        \n",
    "        if out_end_index > len(input_sequences): break\n",
    "        \n",
    "        x_seq, y_seq = input_sequences[i:end_index], output_sequence[end_index-1:out_end_index, -1]\n",
    "        x.append(x_seq)\n",
    "        y.append(y_seq)\n",
    "    return np.array(x), np.array(y)"
   ],
   "id": "6a9f6f0e9c2644b",
   "outputs": [],
   "execution_count": 53
  },
  {
   "metadata": {
    "ExecuteTime": {
     "end_time": "2024-11-14T01:59:03.831529Z",
     "start_time": "2024-11-14T01:59:03.818296Z"
    }
   },
   "cell_type": "code",
   "source": [
    "x_ss, y_mm = split_sequence(x_trans, y_trans, 100, num_classes)\n",
    "print(x_ss.shape, y_mm.shape)"
   ],
   "id": "170dd1ad5935b47c",
   "outputs": [
    {
     "name": "stdout",
     "output_type": "stream",
     "text": [
      "(3602, 100, 9) (3602, 9)\n"
     ]
    }
   ],
   "execution_count": 85
  },
  {
   "metadata": {
    "ExecuteTime": {
     "end_time": "2024-11-14T01:59:07.813350Z",
     "start_time": "2024-11-14T01:59:07.810397Z"
    }
   },
   "cell_type": "code",
   "source": "# hmmm, seems to chop off the last bit (would that be the most recent data?) Could possible improvement include making this sequence but in reverse?",
   "id": "b20c5522db5232e0",
   "outputs": [],
   "execution_count": 86
  },
  {
   "metadata": {
    "ExecuteTime": {
     "end_time": "2024-11-14T01:59:08.216924Z",
     "start_time": "2024-11-14T01:59:08.212750Z"
    }
   },
   "cell_type": "code",
   "source": "y_mm[0]",
   "id": "829606225b2c33cd",
   "outputs": [
    {
     "data": {
      "text/plain": [
       "array([0.0016709 , 0.00177663, 0.00163361, 0.00164993, 0.00159575,\n",
       "       0.00157282, 0.00168496, 0.00161447, 0.00162375])"
      ]
     },
     "execution_count": 87,
     "metadata": {},
     "output_type": "execute_result"
    }
   ],
   "execution_count": 87
  },
  {
   "metadata": {
    "ExecuteTime": {
     "end_time": "2024-11-14T01:59:09.356254Z",
     "start_time": "2024-11-14T01:59:09.349479Z"
    }
   },
   "cell_type": "code",
   "source": "y_trans[99:149].squeeze(1)",
   "id": "73795b2df02b7542",
   "outputs": [
    {
     "data": {
      "text/plain": [
       "array([0.0016709 , 0.00177663, 0.00163361, 0.00164993, 0.00159575,\n",
       "       0.00157282, 0.00168496, 0.00161447, 0.00162375, 0.00122116,\n",
       "       0.00102091, 0.0011428 , 0.00128172, 0.00137835, 0.00124805,\n",
       "       0.00133175, 0.00114662, 0.00103828, 0.00106361, 0.00056633,\n",
       "       0.        , 0.0003764 , 0.00035568, 0.00025089, 0.00038227,\n",
       "       0.00043589, 0.00039384, 0.00057862, 0.0006558 , 0.00064955,\n",
       "       0.00082705, 0.00089667, 0.00113093, 0.00101237, 0.00066184,\n",
       "       0.00065707, 0.00057302, 0.00046676, 0.00057951, 0.000713  ,\n",
       "       0.00058302, 0.0005781 , 0.00046257, 0.0005237 , 0.00058878,\n",
       "       0.00053729, 0.00049813, 0.00049492, 0.00048717, 0.00051775])"
      ]
     },
     "execution_count": 88,
     "metadata": {},
     "output_type": "execute_result"
    }
   ],
   "execution_count": 88
  },
  {
   "metadata": {
    "ExecuteTime": {
     "end_time": "2024-11-14T01:59:10.231644Z",
     "start_time": "2024-11-14T01:59:10.226752Z"
    }
   },
   "cell_type": "code",
   "source": [
    "total_samples = len(x)\n",
    "train_test_cutoff = round(total_samples * 0.9)\n",
    "\n",
    "x_train = x_ss[:-150]\n",
    "x_test = x_ss[-150:]\n",
    "\n",
    "y_train = y_mm[:-150]\n",
    "y_test = y_mm[-150:]\n",
    "\n",
    "print(\"Training shape:\", x_train.shape, y_train.shape)\n",
    "print(\"Testing shape:\", x_test.shape, y_test.shape)"
   ],
   "id": "5089d2b63a321da3",
   "outputs": [
    {
     "name": "stdout",
     "output_type": "stream",
     "text": [
      "Training shape: (3452, 100, 9) (3452, 9)\n",
      "Testing shape: (150, 100, 9) (150, 9)\n"
     ]
    }
   ],
   "execution_count": 89
  },
  {
   "metadata": {
    "ExecuteTime": {
     "end_time": "2024-11-14T01:59:10.566993Z",
     "start_time": "2024-11-14T01:59:10.550085Z"
    }
   },
   "cell_type": "code",
   "source": [
    "x_train_tensor = torch.Tensor(x_train).cuda()\n",
    "x_test_tensor = torch.Tensor(x_test).cuda()\n",
    "y_train_tensor = torch.Tensor(y_train).cuda()\n",
    "y_test_tensor = torch.Tensor(y_test).cuda()"
   ],
   "id": "90ae891908397bdf",
   "outputs": [],
   "execution_count": 90
  },
  {
   "metadata": {
    "ExecuteTime": {
     "end_time": "2024-11-14T01:59:10.991981Z",
     "start_time": "2024-11-14T01:59:10.988634Z"
    }
   },
   "cell_type": "code",
   "source": [
    "x_train_tensors_final = torch.reshape(x_train_tensor,\n",
    "                                      (x_train_tensor.shape[0], 100,\n",
    "                                      x_train_tensor.shape[2])).cuda()\n",
    "x_test_tensors_final = torch.reshape(x_test_tensor,\n",
    "                                     (x_test_tensor.shape[0], 100,\n",
    "                                      x_test_tensor.shape[2])).cuda()\n",
    "\n",
    "print(\"Training shape:\", x_train_tensors_final.shape, y_test_tensor.shape)\n",
    "print(\"Testing shape:\", x_test_tensors_final.shape, y_test_tensor.shape)"
   ],
   "id": "6eac7875a46ef479",
   "outputs": [
    {
     "name": "stdout",
     "output_type": "stream",
     "text": [
      "Training shape: torch.Size([3452, 100, 9]) torch.Size([150, 9])\n",
      "Testing shape: torch.Size([150, 100, 9]) torch.Size([150, 9])\n"
     ]
    }
   ],
   "execution_count": 91
  },
  {
   "metadata": {
    "ExecuteTime": {
     "end_time": "2024-11-14T01:59:11.545828Z",
     "start_time": "2024-11-14T01:59:11.542564Z"
    }
   },
   "cell_type": "code",
   "source": "device = torch.device('cuda' if torch.cuda.is_available() else 'cpu')",
   "id": "34c95d95e4c90817",
   "outputs": [],
   "execution_count": 92
  },
  {
   "metadata": {
    "ExecuteTime": {
     "end_time": "2024-11-14T01:59:11.908843Z",
     "start_time": "2024-11-14T01:59:11.904183Z"
    }
   },
   "cell_type": "code",
   "source": [
    "class LSTM(nn.Module):\n",
    "    \"\"\"LSTM model class\"\"\"\n",
    "    def __init__(self, input_size, hidden_size, num_classes, num_layers=1, device=device):\n",
    "        \"\"\"initializes a LSTM model \"\"\"\n",
    "        \n",
    "        super(LSTM, self).__init__()\n",
    "        self.hidden_size = hidden_size\n",
    "        self.input_size = input_size\n",
    "        self.num_classes = num_classes #num of classes\n",
    "        self.num_layers = num_layers\n",
    "        # LSTM model \n",
    "        self.lstm = nn.LSTM(input_size=input_size, hidden_size=hidden_size, num_layers=num_layers, batch_first=True, \n",
    "                            dropout=0.2).to(device)\n",
    "        self.fc_1 = nn.Linear(hidden_size, 128).to(device)\n",
    "        self.fc_2 = nn.Linear(128, num_classes).to(device)\n",
    "        self.relu = nn.ReLU()\n",
    "        self.sigmoid = nn.Sigmoid()\n",
    "        \n",
    "    def forward(self, x):\n",
    "        # hidden state \n",
    "        h_0 = torch.zeros(self.num_layers, x.size(0), self.hidden_size).cuda()\n",
    "        c_0 = torch.zeros(self.num_layers, x.size(0), self.hidden_size).cuda()\n",
    "        \n",
    "        # propagation\n",
    "        output, (hn, cn) = self.lstm(x, (h_0, c_0)) # input, hidden and internal state\n",
    "        hn = hn.view(-1, self.hidden_size) # reshaping the data for Dense layer next\n",
    "        # out = self.relu(output[:, -1, :]) # apparently you can pass either the output or the hn\n",
    "        # but output seems to work if I have multiple layers and hn doesn't? Maybe I'm just not shaping it correctly? \n",
    "        hn = self.relu(hn)\n",
    "        out = self.fc_1(hn) # first dense\n",
    "        out = self.relu(out)\n",
    "        out = self.fc_2(out) # should represent final output \n",
    "        return out"
   ],
   "id": "d1670234eef60092",
   "outputs": [],
   "execution_count": 93
  },
  {
   "metadata": {
    "ExecuteTime": {
     "end_time": "2024-11-14T01:59:38.540986Z",
     "start_time": "2024-11-14T01:59:38.537636Z"
    }
   },
   "cell_type": "code",
   "source": [
    "# define the training function \n",
    "def training_loop(n_epochs, lstm, optimizer, loss_fn, x_train, y_train, x_test, y_test):\n",
    "    for epoch in range(n_epochs):\n",
    "        lstm.train() # puts model in training mode (for our dropout layer this is important)\n",
    "        outputs = lstm(x_train) # forward pass \n",
    "        optimizer.zero_grad() # reseting the gradients to zero before each update (otherwise it does gradient accumulation) \n",
    "        loss = loss_fn(outputs, y_train) # compute loss\n",
    "        loss.backward() # backpropagation \n",
    "        optimizer.step() # update model weights using optimizer function \n",
    "        \n",
    "        # if the optimizer or loss functions aren't explicitly 'tied' to the pytorch model, how does it know?\n",
    "        \n",
    "        lstm.eval() # switches to eval mode to do 'inferences' not training (again, for our dropout layer)\n",
    "        # this implies that the test_loss is different from the loss calculated earlier\n",
    "        test_preds = lstm(x_test)\n",
    "        test_loss = loss_fn(test_preds, y_test)\n",
    "        if epoch % 100 == 0:\n",
    "            print(\"Epoch: %d, train loss: %1.5f, test loss: %1.5f\" % (epoch, \n",
    "                                                                      loss.item(), \n",
    "                                                                      test_loss.item())) \n",
    "        "
   ],
   "id": "c1aa731a41b69955",
   "outputs": [],
   "execution_count": 98
  },
  {
   "metadata": {
    "ExecuteTime": {
     "end_time": "2024-11-14T01:59:12.866996Z",
     "start_time": "2024-11-14T01:59:12.858763Z"
    }
   },
   "cell_type": "code",
   "source": "lstm = LSTM(input_size, hidden_size, num_classes, num_layers)",
   "id": "56da12683fe4e873",
   "outputs": [],
   "execution_count": 95
  },
  {
   "metadata": {
    "ExecuteTime": {
     "end_time": "2024-11-14T01:59:13.225005Z",
     "start_time": "2024-11-14T01:59:13.221927Z"
    }
   },
   "cell_type": "code",
   "source": [
    "# intializing loss and optimizer function\n",
    "loss_fn = torch.nn.MSELoss() # for regression? is this a regression task? \n",
    "optimizer = torch.optim.Adam(lstm.parameters(), lr=learning_rate)"
   ],
   "id": "6212b697ad198bdc",
   "outputs": [],
   "execution_count": 96
  },
  {
   "metadata": {
    "ExecuteTime": {
     "end_time": "2024-11-14T02:06:45.866720Z",
     "start_time": "2024-11-14T01:59:43.254845Z"
    }
   },
   "cell_type": "code",
   "source": "training_loop(n_epochs, lstm, optimizer, loss_fn, x_train=x_train_tensors_final, y_train=y_train_tensor, x_test=x_test_tensors_final, y_test=y_test_tensor)",
   "id": "a4690544e182130a",
   "outputs": [
    {
     "name": "stdout",
     "output_type": "stream",
     "text": [
      "Epoch: 0, train loss: 0.00741, test loss: 0.00356\n",
      "Epoch: 100, train loss: 0.00053, test loss: 0.00168\n",
      "Epoch: 200, train loss: 0.00038, test loss: 0.00168\n",
      "Epoch: 300, train loss: 0.00029, test loss: 0.00159\n",
      "Epoch: 400, train loss: 0.00024, test loss: 0.00167\n",
      "Epoch: 500, train loss: 0.00018, test loss: 0.00248\n",
      "Epoch: 600, train loss: 0.00016, test loss: 0.00234\n",
      "Epoch: 700, train loss: 0.00013, test loss: 0.00232\n",
      "Epoch: 800, train loss: 0.00013, test loss: 0.00254\n",
      "Epoch: 900, train loss: 0.00011, test loss: 0.00346\n"
     ]
    }
   ],
   "execution_count": 99
  },
  {
   "metadata": {
    "ExecuteTime": {
     "end_time": "2024-11-14T02:18:17.703989Z",
     "start_time": "2024-11-14T02:18:17.699097Z"
    }
   },
   "cell_type": "code",
   "source": [
    "df_x_ss = ss.transform(btc.drop(columns=['close', 'target'])) # old transformers\n",
    "# del df_x_ss[\"Dividends\"]\n",
    "# del df_x_ss[\"Stock Splits\"]"
   ],
   "id": "5c197bcf67c789ac",
   "outputs": [],
   "execution_count": 100
  },
  {
   "metadata": {
    "ExecuteTime": {
     "end_time": "2024-11-14T02:18:18.851330Z",
     "start_time": "2024-11-14T02:18:18.214319Z"
    }
   },
   "cell_type": "code",
   "source": [
    "\n",
    "df_y_mm = mm.transform(btc.close.values.reshape(-1, 1)) # old transformers\n",
    "\n",
    "# split the sequence\n",
    "df_x_ss, df_y_mm = split_sequence(df_x_ss, df_y_mm, 100, 50)\n",
    "\n",
    "\n",
    "#converting to tensors\n",
    "df_x_ss = torch.Tensor(df_x_ss)\n",
    "df_y_mm = torch.Tensor(df_y_mm)\n",
    "\n",
    "# reshaping the dataset\n",
    "df_x_ss = torch.reshape(df_x_ss, (df_x_ss.shape[0], 100, df_x_ss.shape[2])).to(device)\n",
    "\n",
    "train_predict = lstm(df_x_ss) # forward pass\n",
    "data_predict = train_predict.cpu().detach().numpy() # I think this is doing the same thing? not sure\n",
    "\n",
    "dataY_plot = df_y_mm.cpu().detach().numpy()\n",
    "\n",
    "data_predict = mm.inverse_transform(data_predict) # reverse transformation\n",
    "dataY_plot = mm.inverse_transform(dataY_plot)\n",
    "true, preds = [], []\n",
    "\n",
    "for i in range(len(dataY_plot)):\n",
    "    true.append(dataY_plot[i][0])\n",
    "for i in range(len(data_predict)):\n",
    "    preds.append(data_predict[i][0])\n",
    "    \n",
    "plt.figure(figsize=(10, 6))\n",
    "plt.axvline(x=train_test_cutoff, c='r', linestyle='--')\n",
    "\n",
    "plt.plot(true, label='Actual Data')\n",
    "plt.plot(preds, label='Predicted Data')\n",
    "plt.title(\"Time Series Prediction\")\n",
    "\n",
    "plt.legend()\n",
    "plt.savefig(\"whole_plot.png\", dpi=300)\n",
    "\n",
    "plt.show()\n",
    "\n"
   ],
   "id": "c1f6776adf47c7a2",
   "outputs": [
    {
     "data": {
      "text/plain": [
       "<Figure size 1000x600 with 1 Axes>"
      ],
      "image/png": "[encoded data removed]"
     },
     "metadata": {},
     "output_type": "display_data"
    }
   ],
   "execution_count": 101
  },
  {
   "metadata": {
    "ExecuteTime": {
     "end_time": "2024-11-14T02:18:24.608069Z",
     "start_time": "2024-11-14T02:18:24.453606Z"
    }
   },
   "cell_type": "code",
   "source": [
    "test_predict = lstm(x_test_tensors_final[-1].unsqueeze(0)) # get the last sample\n",
    "test_predict = test_predict.cpu().detach().numpy()\n",
    "test_predict = mm.inverse_transform(test_predict)\n",
    "test_predict = test_predict[0].tolist()\n",
    "\n",
    "test_target = y_test_tensor[-1].detach().cpu().numpy() # last sample \n",
    "test_target = mm.inverse_transform(test_target.reshape(1, -1))\n",
    "test_target = test_target[0].tolist()\n",
    "\n",
    "plt.plot(test_target, label='Actual Data')\n",
    "plt.plot(test_predict, label='Predicted Data')\n",
    "plt.savefig('small_plot.png', dpi=300)\n",
    "plt.show()"
   ],
   "id": "25fe1a47d8151edb",
   "outputs": [
    {
     "data": {
      "text/plain": [
       "<Figure size 640x480 with 1 Axes>"
      ],
      "image/png": "[encoded data removed]"
     },
     "metadata": {},
     "output_type": "display_data"
    }
   ],
   "execution_count": 102
  },
  {
   "metadata": {
    "ExecuteTime": {
     "end_time": "2024-11-14T02:18:56.930560Z",
     "start_time": "2024-11-14T02:18:56.862486Z"
    }
   },
   "cell_type": "code",
   "source": [
    "plt.figure(figsize=(10,6)) #plotting\n",
    "a = [x for x in range(2500, len(y))]\n",
    "plt.plot(a, y[2500:], label='Actual data')\n",
    "c = [x for x in range(len(y)-9, len(y))]\n",
    "plt.plot(c, test_predict, label='One-shot multi-step prediction (9 days)')\n",
    "plt.axvline(x=len(y)-9, c='r', linestyle='--')\n",
    "plt.legend()\n",
    "plt.show()"
   ],
   "id": "6d149230c5d87c26",
   "outputs": [
    {
     "data": {
      "text/plain": [
       "<Figure size 1000x600 with 1 Axes>"
      ],
      "image/png": "[encoded data removed]"
     },
     "metadata": {},
     "output_type": "display_data"
    }
   ],
   "execution_count": 104
  },
  {
   "metadata": {},
   "cell_type": "code",
   "source": "",
   "id": "a0b2aac7ffd2be54",
   "outputs": [],
   "execution_count": null
  }
 ],
 "metadata": {
  "kernelspec": {
   "display_name": "Python 3",
   "language": "python",
   "name": "python3"
  },
  "language_info": {
   "codemirror_mode": {
    "name": "ipython",
    "version": 2
   },
   "file_extension": ".py",
   "mimetype": "text/x-python",
   "name": "python",
   "nbconvert_exporter": "python",
   "pygments_lexer": "ipython2",
   "version": "2.7.6"
  }
 },
 "nbformat": 4,
 "nbformat_minor": 5
}
