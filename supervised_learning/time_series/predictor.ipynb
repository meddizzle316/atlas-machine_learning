{
 "cells": [
  {
   "metadata": {
    "ExecuteTime": {
     "end_time": "2024-11-14T01:25:03.378764Z",
     "start_time": "2024-11-14T01:25:03.024358Z"
    }
   },
   "cell_type": "code",
   "source": [
    "import mwclient\n",
    "import time\n",
    "\n"
   ],
   "id": "b59f83b54e58af74",
   "outputs": [],
   "execution_count": 2
  },
  {
   "metadata": {
    "ExecuteTime": {
     "end_time": "2024-11-13T17:29:52.207617Z",
     "start_time": "2024-11-13T17:29:51.966734Z"
    }
   },
   "cell_type": "code",
   "source": [
    "site = mwclient.Site('en.wikipedia.org')\n",
    "page = site.pages['Bitcoin']"
   ],
   "id": "e39d8d98add70969",
   "outputs": [],
   "execution_count": 2
  },
  {
   "metadata": {
    "ExecuteTime": {
     "end_time": "2024-11-13T17:30:32.340802Z",
     "start_time": "2024-11-13T17:29:52.283537Z"
    }
   },
   "cell_type": "code",
   "source": "revs = list(page.revisions())",
   "id": "5dc7f41140a54547",
   "outputs": [],
   "execution_count": 3
  },
  {
   "metadata": {
    "ExecuteTime": {
     "end_time": "2024-11-13T17:30:32.371527Z",
     "start_time": "2024-11-13T17:30:32.358018Z"
    }
   },
   "cell_type": "code",
   "source": "revs = sorted(revs, key=lambda rev: rev['timestamp'])",
   "id": "43e31ecc6ba6801e",
   "outputs": [],
   "execution_count": 4
  },
  {
   "metadata": {
    "ExecuteTime": {
     "end_time": "2024-11-13T17:30:32.412455Z",
     "start_time": "2024-11-13T17:30:32.390775Z"
    }
   },
   "cell_type": "code",
   "source": "revs[0]",
   "id": "ebb0c1d711b7285e",
   "outputs": [
    {
     "data": {
      "text/plain": [
       "OrderedDict([('revid', 275832581),\n",
       "             ('parentid', 0),\n",
       "             ('user', 'Pratyeka'),\n",
       "             ('timestamp',\n",
       "              time.struct_time(tm_year=2009, tm_mon=3, tm_mday=8, tm_hour=16, tm_min=41, tm_sec=7, tm_wday=6, tm_yday=67, tm_isdst=-1)),\n",
       "             ('comment', 'creation (stub)')])"
      ]
     },
     "execution_count": 5,
     "metadata": {},
     "output_type": "execute_result"
    }
   ],
   "execution_count": 5
  },
  {
   "metadata": {
    "ExecuteTime": {
     "end_time": "2024-11-13T17:31:33.167038Z",
     "start_time": "2024-11-13T17:30:32.560523Z"
    }
   },
   "cell_type": "code",
   "source": [
    "from transformers import pipeline \n",
    "sentiment_pipeline = pipeline('sentiment-analysis')\n",
    "\n",
    "def find_sentiment(text):\n",
    "    sent = sentiment_pipeline([text[:250]])[0]\n",
    "    score = sent['score']\n",
    "    if sent['label'] == \"NEGATIVE\":\n",
    "        score = -score\n",
    "    return score\n",
    "\n"
   ],
   "id": "b36d8a658c7ab463",
   "outputs": [
    {
     "name": "stderr",
     "output_type": "stream",
     "text": [
      "C:\\Users\\meddi\\PycharmProjects\\personal_projects\\venv\\Lib\\site-packages\\tqdm\\auto.py:21: TqdmWarning: IProgress not found. Please update jupyter and ipywidgets. See https://ipywidgets.readthedocs.io/en/stable/user_install.html\n",
      "  from .autonotebook import tqdm as notebook_tqdm\n",
      "No model was supplied, defaulted to distilbert/distilbert-base-uncased-finetuned-sst-2-english and revision 714eb0f (https://huggingface.co/distilbert/distilbert-base-uncased-finetuned-sst-2-english).\n",
      "Using a pipeline without specifying a model name and revision in production is not recommended.\n"
     ]
    },
    {
     "name": "stdout",
     "output_type": "stream",
     "text": [
      "WARNING:tensorflow:From C:\\Users\\meddi\\PycharmProjects\\personal_projects\\venv\\Lib\\site-packages\\tf_keras\\src\\losses.py:2976: The name tf.losses.sparse_softmax_cross_entropy is deprecated. Please use tf.compat.v1.losses.sparse_softmax_cross_entropy instead.\n",
      "\n"
     ]
    },
    {
     "name": "stderr",
     "output_type": "stream",
     "text": [
      "Hardware accelerator e.g. GPU is available in the environment, but no `device` argument is passed to the `Pipeline` object. Model will be on CPU.\n"
     ]
    }
   ],
   "execution_count": 6
  },
  {
   "metadata": {
    "ExecuteTime": {
     "end_time": "2024-11-13T17:41:38.106789Z",
     "start_time": "2024-11-13T17:31:33.397938Z"
    }
   },
   "cell_type": "code",
   "source": [
    "edits = {}\n",
    "\n",
    "for rev in revs:\n",
    "    date = time.strftime(\"%Y-%m-%d\", rev['timestamp'])\n",
    "    if date not in edits:\n",
    "        edits[date] = dict(sentiments=list(), edit_count=0)\n",
    "    edits[date][\"edit_count\"] += 1\n",
    "    comment = rev.get(\"comment\", \"\")\n",
    "    edits[date][\"sentiments\"].append(find_sentiment(comment))"
   ],
   "id": "c18ec3af7b5d7155",
   "outputs": [],
   "execution_count": 7
  },
  {
   "metadata": {
    "ExecuteTime": {
     "end_time": "2024-11-13T17:41:38.260595Z",
     "start_time": "2024-11-13T17:41:38.122517Z"
    }
   },
   "cell_type": "code",
   "source": [
    "from statistics import mean\n",
    "\n",
    "for key in edits:\n",
    "    if len(edits[key][\"sentiments\"]) > 0:\n",
    "        edits[key][\"sentiment\"] = mean(edits[key][\"sentiments\"])\n",
    "        edits[key][\"neg_sentiment\"] = len([s for s in edits[key]['sentiments'] if s < 0]) / len(edits[key][\"sentiments\"])\n",
    "    else:\n",
    "        edits[key][\"sentiment\"] = 0\n",
    "        edits[key][\"neg_sentiment\"] = 0\n",
    "        \n",
    "    del edits[key][\"sentiments\"]"
   ],
   "id": "37ac9b424a93173f",
   "outputs": [],
   "execution_count": 8
  },
  {
   "metadata": {
    "ExecuteTime": {
     "end_time": "2024-11-13T17:41:38.406285Z",
     "start_time": "2024-11-13T17:41:38.394475Z"
    }
   },
   "cell_type": "code",
   "source": [
    "import pandas as pd\n",
    "\n",
    "edits_df = pd.DataFrame.from_dict(edits, orient='index')"
   ],
   "id": "10784bdb1affa2fc",
   "outputs": [],
   "execution_count": 9
  },
  {
   "metadata": {
    "ExecuteTime": {
     "end_time": "2024-11-13T17:41:38.567160Z",
     "start_time": "2024-11-13T17:41:38.552105Z"
    }
   },
   "cell_type": "code",
   "source": "edits_df",
   "id": "36bd80c2dcfa5be4",
   "outputs": [
    {
     "data": {
      "text/plain": [
       "            edit_count  sentiment  neg_sentiment\n",
       "2009-03-08           4  -0.550525       0.750000\n",
       "2009-08-05           1   0.748121       0.000000\n",
       "2009-08-06           2   0.995746       0.000000\n",
       "2009-08-14           1   0.930021       0.000000\n",
       "2009-10-13           2  -0.227500       0.500000\n",
       "...                ...        ...            ...\n",
       "2024-10-21           1   0.879291       0.000000\n",
       "2024-10-29           3   0.317756       0.333333\n",
       "2024-10-31           3  -0.343412       0.666667\n",
       "2024-11-09           1   0.995352       0.000000\n",
       "2024-11-10           4  -0.559602       0.750000\n",
       "\n",
       "[2729 rows x 3 columns]"
      ],
      "text/html": [
       "<div>\n",
       "<style scoped>\n",
       "    .dataframe tbody tr th:only-of-type {\n",
       "        vertical-align: middle;\n",
       "    }\n",
       "\n",
       "    .dataframe tbody tr th {\n",
       "        vertical-align: top;\n",
       "    }\n",
       "\n",
       "    .dataframe thead th {\n",
       "        text-align: right;\n",
       "    }\n",
       "</style>\n",
       "<table border=\"1\" class=\"dataframe\">\n",
       "  <thead>\n",
       "    <tr style=\"text-align: right;\">\n",
       "      <th></th>\n",
       "      <th>edit_count</th>\n",
       "      <th>sentiment</th>\n",
       "      <th>neg_sentiment</th>\n",
       "    </tr>\n",
       "  </thead>\n",
       "  <tbody>\n",
       "    <tr>\n",
       "      <th>2009-03-08</th>\n",
       "      <td>4</td>\n",
       "      <td>-0.550525</td>\n",
       "      <td>0.750000</td>\n",
       "    </tr>\n",
       "    <tr>\n",
       "      <th>2009-08-05</th>\n",
       "      <td>1</td>\n",
       "      <td>0.748121</td>\n",
       "      <td>0.000000</td>\n",
       "    </tr>\n",
       "    <tr>\n",
       "      <th>2009-08-06</th>\n",
       "      <td>2</td>\n",
       "      <td>0.995746</td>\n",
       "      <td>0.000000</td>\n",
       "    </tr>\n",
       "    <tr>\n",
       "      <th>2009-08-14</th>\n",
       "      <td>1</td>\n",
       "      <td>0.930021</td>\n",
       "      <td>0.000000</td>\n",
       "    </tr>\n",
       "    <tr>\n",
       "      <th>2009-10-13</th>\n",
       "      <td>2</td>\n",
       "      <td>-0.227500</td>\n",
       "      <td>0.500000</td>\n",
       "    </tr>\n",
       "    <tr>\n",
       "      <th>...</th>\n",
       "      <td>...</td>\n",
       "      <td>...</td>\n",
       "      <td>...</td>\n",
       "    </tr>\n",
       "    <tr>\n",
       "      <th>2024-10-21</th>\n",
       "      <td>1</td>\n",
       "      <td>0.879291</td>\n",
       "      <td>0.000000</td>\n",
       "    </tr>\n",
       "    <tr>\n",
       "      <th>2024-10-29</th>\n",
       "      <td>3</td>\n",
       "      <td>0.317756</td>\n",
       "      <td>0.333333</td>\n",
       "    </tr>\n",
       "    <tr>\n",
       "      <th>2024-10-31</th>\n",
       "      <td>3</td>\n",
       "      <td>-0.343412</td>\n",
       "      <td>0.666667</td>\n",
       "    </tr>\n",
       "    <tr>\n",
       "      <th>2024-11-09</th>\n",
       "      <td>1</td>\n",
       "      <td>0.995352</td>\n",
       "      <td>0.000000</td>\n",
       "    </tr>\n",
       "    <tr>\n",
       "      <th>2024-11-10</th>\n",
       "      <td>4</td>\n",
       "      <td>-0.559602</td>\n",
       "      <td>0.750000</td>\n",
       "    </tr>\n",
       "  </tbody>\n",
       "</table>\n",
       "<p>2729 rows × 3 columns</p>\n",
       "</div>"
      ]
     },
     "execution_count": 10,
     "metadata": {},
     "output_type": "execute_result"
    }
   ],
   "execution_count": 10
  },
  {
   "metadata": {
    "ExecuteTime": {
     "end_time": "2024-11-13T17:41:38.732497Z",
     "start_time": "2024-11-13T17:41:38.717379Z"
    }
   },
   "cell_type": "code",
   "source": "edits_df.index = pd.to_datetime(edits_df.index)",
   "id": "99b4d73cc8d10c82",
   "outputs": [],
   "execution_count": 11
  },
  {
   "metadata": {
    "ExecuteTime": {
     "end_time": "2024-11-13T17:41:38.830513Z",
     "start_time": "2024-11-13T17:41:38.821927Z"
    }
   },
   "cell_type": "code",
   "source": [
    "from datetime import datetime\n",
    "\n",
    "dates = pd.date_range(start='2009-03-08', end=datetime.today())"
   ],
   "id": "fd7a405183014b2",
   "outputs": [],
   "execution_count": 12
  },
  {
   "metadata": {
    "ExecuteTime": {
     "end_time": "2024-11-13T17:41:39.017183Z",
     "start_time": "2024-11-13T17:41:39.009250Z"
    }
   },
   "cell_type": "code",
   "source": "edits_df = edits_df.reindex(dates, fill_value=0)",
   "id": "f3d3ea318515415b",
   "outputs": [],
   "execution_count": 13
  },
  {
   "metadata": {
    "ExecuteTime": {
     "end_time": "2024-11-13T17:41:39.383221Z",
     "start_time": "2024-11-13T17:41:39.363911Z"
    }
   },
   "cell_type": "code",
   "source": "edits_df",
   "id": "f8d83e3beeb4b475",
   "outputs": [
    {
     "data": {
      "text/plain": [
       "            edit_count  sentiment  neg_sentiment\n",
       "2009-03-08           4  -0.550525           0.75\n",
       "2009-03-09           0   0.000000           0.00\n",
       "2009-03-10           0   0.000000           0.00\n",
       "2009-03-11           0   0.000000           0.00\n",
       "2009-03-12           0   0.000000           0.00\n",
       "...                ...        ...            ...\n",
       "2024-11-09           1   0.995352           0.00\n",
       "2024-11-10           4  -0.559602           0.75\n",
       "2024-11-11           0   0.000000           0.00\n",
       "2024-11-12           0   0.000000           0.00\n",
       "2024-11-13           0   0.000000           0.00\n",
       "\n",
       "[5730 rows x 3 columns]"
      ],
      "text/html": [
       "<div>\n",
       "<style scoped>\n",
       "    .dataframe tbody tr th:only-of-type {\n",
       "        vertical-align: middle;\n",
       "    }\n",
       "\n",
       "    .dataframe tbody tr th {\n",
       "        vertical-align: top;\n",
       "    }\n",
       "\n",
       "    .dataframe thead th {\n",
       "        text-align: right;\n",
       "    }\n",
       "</style>\n",
       "<table border=\"1\" class=\"dataframe\">\n",
       "  <thead>\n",
       "    <tr style=\"text-align: right;\">\n",
       "      <th></th>\n",
       "      <th>edit_count</th>\n",
       "      <th>sentiment</th>\n",
       "      <th>neg_sentiment</th>\n",
       "    </tr>\n",
       "  </thead>\n",
       "  <tbody>\n",
       "    <tr>\n",
       "      <th>2009-03-08</th>\n",
       "      <td>4</td>\n",
       "      <td>-0.550525</td>\n",
       "      <td>0.75</td>\n",
       "    </tr>\n",
       "    <tr>\n",
       "      <th>2009-03-09</th>\n",
       "      <td>0</td>\n",
       "      <td>0.000000</td>\n",
       "      <td>0.00</td>\n",
       "    </tr>\n",
       "    <tr>\n",
       "      <th>2009-03-10</th>\n",
       "      <td>0</td>\n",
       "      <td>0.000000</td>\n",
       "      <td>0.00</td>\n",
       "    </tr>\n",
       "    <tr>\n",
       "      <th>2009-03-11</th>\n",
       "      <td>0</td>\n",
       "      <td>0.000000</td>\n",
       "      <td>0.00</td>\n",
       "    </tr>\n",
       "    <tr>\n",
       "      <th>2009-03-12</th>\n",
       "      <td>0</td>\n",
       "      <td>0.000000</td>\n",
       "      <td>0.00</td>\n",
       "    </tr>\n",
       "    <tr>\n",
       "      <th>...</th>\n",
       "      <td>...</td>\n",
       "      <td>...</td>\n",
       "      <td>...</td>\n",
       "    </tr>\n",
       "    <tr>\n",
       "      <th>2024-11-09</th>\n",
       "      <td>1</td>\n",
       "      <td>0.995352</td>\n",
       "      <td>0.00</td>\n",
       "    </tr>\n",
       "    <tr>\n",
       "      <th>2024-11-10</th>\n",
       "      <td>4</td>\n",
       "      <td>-0.559602</td>\n",
       "      <td>0.75</td>\n",
       "    </tr>\n",
       "    <tr>\n",
       "      <th>2024-11-11</th>\n",
       "      <td>0</td>\n",
       "      <td>0.000000</td>\n",
       "      <td>0.00</td>\n",
       "    </tr>\n",
       "    <tr>\n",
       "      <th>2024-11-12</th>\n",
       "      <td>0</td>\n",
       "      <td>0.000000</td>\n",
       "      <td>0.00</td>\n",
       "    </tr>\n",
       "    <tr>\n",
       "      <th>2024-11-13</th>\n",
       "      <td>0</td>\n",
       "      <td>0.000000</td>\n",
       "      <td>0.00</td>\n",
       "    </tr>\n",
       "  </tbody>\n",
       "</table>\n",
       "<p>5730 rows × 3 columns</p>\n",
       "</div>"
      ]
     },
     "execution_count": 14,
     "metadata": {},
     "output_type": "execute_result"
    }
   ],
   "execution_count": 14
  },
  {
   "metadata": {
    "ExecuteTime": {
     "end_time": "2024-11-13T17:41:39.745592Z",
     "start_time": "2024-11-13T17:41:39.734647Z"
    }
   },
   "cell_type": "code",
   "source": "rolling_edits = edits_df.rolling(30, min_periods=30).mean()",
   "id": "15fa8adf92a37f47",
   "outputs": [],
   "execution_count": 15
  },
  {
   "metadata": {
    "ExecuteTime": {
     "end_time": "2024-11-13T17:41:40.029186Z",
     "start_time": "2024-11-13T17:41:40.016770Z"
    }
   },
   "cell_type": "code",
   "source": "rolling_edits = rolling_edits.dropna()",
   "id": "8e0e6e6d25a55c41",
   "outputs": [],
   "execution_count": 16
  },
  {
   "metadata": {
    "ExecuteTime": {
     "end_time": "2024-11-13T17:41:40.302301Z",
     "start_time": "2024-11-13T17:41:40.283096Z"
    }
   },
   "cell_type": "code",
   "source": "rolling_edits",
   "id": "e97443a7aada3b0f",
   "outputs": [
    {
     "data": {
      "text/plain": [
       "            edit_count  sentiment  neg_sentiment\n",
       "2009-04-06    0.133333  -0.018351       0.025000\n",
       "2009-04-07    0.000000   0.000000       0.000000\n",
       "2009-04-08    0.000000   0.000000       0.000000\n",
       "2009-04-09    0.000000   0.000000       0.000000\n",
       "2009-04-10    0.000000   0.000000       0.000000\n",
       "...                ...        ...            ...\n",
       "2024-11-09    0.300000   0.028332       0.066667\n",
       "2024-11-10    0.433333   0.009679       0.091667\n",
       "2024-11-11    0.400000   0.042980       0.058333\n",
       "2024-11-12    0.400000   0.042980       0.058333\n",
       "2024-11-13    0.400000   0.042980       0.058333\n",
       "\n",
       "[5701 rows x 3 columns]"
      ],
      "text/html": [
       "<div>\n",
       "<style scoped>\n",
       "    .dataframe tbody tr th:only-of-type {\n",
       "        vertical-align: middle;\n",
       "    }\n",
       "\n",
       "    .dataframe tbody tr th {\n",
       "        vertical-align: top;\n",
       "    }\n",
       "\n",
       "    .dataframe thead th {\n",
       "        text-align: right;\n",
       "    }\n",
       "</style>\n",
       "<table border=\"1\" class=\"dataframe\">\n",
       "  <thead>\n",
       "    <tr style=\"text-align: right;\">\n",
       "      <th></th>\n",
       "      <th>edit_count</th>\n",
       "      <th>sentiment</th>\n",
       "      <th>neg_sentiment</th>\n",
       "    </tr>\n",
       "  </thead>\n",
       "  <tbody>\n",
       "    <tr>\n",
       "      <th>2009-04-06</th>\n",
       "      <td>0.133333</td>\n",
       "      <td>-0.018351</td>\n",
       "      <td>0.025000</td>\n",
       "    </tr>\n",
       "    <tr>\n",
       "      <th>2009-04-07</th>\n",
       "      <td>0.000000</td>\n",
       "      <td>0.000000</td>\n",
       "      <td>0.000000</td>\n",
       "    </tr>\n",
       "    <tr>\n",
       "      <th>2009-04-08</th>\n",
       "      <td>0.000000</td>\n",
       "      <td>0.000000</td>\n",
       "      <td>0.000000</td>\n",
       "    </tr>\n",
       "    <tr>\n",
       "      <th>2009-04-09</th>\n",
       "      <td>0.000000</td>\n",
       "      <td>0.000000</td>\n",
       "      <td>0.000000</td>\n",
       "    </tr>\n",
       "    <tr>\n",
       "      <th>2009-04-10</th>\n",
       "      <td>0.000000</td>\n",
       "      <td>0.000000</td>\n",
       "      <td>0.000000</td>\n",
       "    </tr>\n",
       "    <tr>\n",
       "      <th>...</th>\n",
       "      <td>...</td>\n",
       "      <td>...</td>\n",
       "      <td>...</td>\n",
       "    </tr>\n",
       "    <tr>\n",
       "      <th>2024-11-09</th>\n",
       "      <td>0.300000</td>\n",
       "      <td>0.028332</td>\n",
       "      <td>0.066667</td>\n",
       "    </tr>\n",
       "    <tr>\n",
       "      <th>2024-11-10</th>\n",
       "      <td>0.433333</td>\n",
       "      <td>0.009679</td>\n",
       "      <td>0.091667</td>\n",
       "    </tr>\n",
       "    <tr>\n",
       "      <th>2024-11-11</th>\n",
       "      <td>0.400000</td>\n",
       "      <td>0.042980</td>\n",
       "      <td>0.058333</td>\n",
       "    </tr>\n",
       "    <tr>\n",
       "      <th>2024-11-12</th>\n",
       "      <td>0.400000</td>\n",
       "      <td>0.042980</td>\n",
       "      <td>0.058333</td>\n",
       "    </tr>\n",
       "    <tr>\n",
       "      <th>2024-11-13</th>\n",
       "      <td>0.400000</td>\n",
       "      <td>0.042980</td>\n",
       "      <td>0.058333</td>\n",
       "    </tr>\n",
       "  </tbody>\n",
       "</table>\n",
       "<p>5701 rows × 3 columns</p>\n",
       "</div>"
      ]
     },
     "execution_count": 17,
     "metadata": {},
     "output_type": "execute_result"
    }
   ],
   "execution_count": 17
  },
  {
   "metadata": {
    "ExecuteTime": {
     "end_time": "2024-11-13T17:41:40.567728Z",
     "start_time": "2024-11-13T17:41:40.492112Z"
    }
   },
   "cell_type": "code",
   "source": "rolling_edits.to_csv('wikipedia_edits.csv')",
   "id": "85e1077b21e0e954",
   "outputs": [],
   "execution_count": 18
  },
  {
   "metadata": {
    "ExecuteTime": {
     "end_time": "2024-11-14T01:25:22.501452Z",
     "start_time": "2024-11-14T01:25:21.072779Z"
    }
   },
   "cell_type": "code",
   "source": [
    "import yfinance as yf\n",
    "import os \n",
    "import pandas as pd"
   ],
   "id": "e489c9c749464390",
   "outputs": [],
   "execution_count": 3
  },
  {
   "metadata": {
    "ExecuteTime": {
     "end_time": "2024-11-14T01:25:22.509532Z",
     "start_time": "2024-11-14T01:25:22.506225Z"
    }
   },
   "cell_type": "code",
   "source": "btc_ticker = yf.Ticker('BTC-USD')",
   "id": "3fbb58b334f41d9f",
   "outputs": [],
   "execution_count": 4
  },
  {
   "metadata": {
    "ExecuteTime": {
     "end_time": "2024-11-14T01:25:23.260746Z",
     "start_time": "2024-11-14T01:25:23.233807Z"
    }
   },
   "cell_type": "code",
   "source": [
    "if os.path.exists('btc.csv'):\n",
    "    btc = pd.read_csv('btc.csv', index_col=0)\n",
    "else:\n",
    "    btc = btc_ticker.history(period='max')\n",
    "    btc.to_csv('btc.csv')\n"
   ],
   "id": "cb0917a8961d950c",
   "outputs": [],
   "execution_count": 5
  },
  {
   "metadata": {
    "ExecuteTime": {
     "end_time": "2024-11-14T01:25:24.444422Z",
     "start_time": "2024-11-14T01:25:24.429919Z"
    }
   },
   "cell_type": "code",
   "source": "btc",
   "id": "6ded276479873e8e",
   "outputs": [
    {
     "data": {
      "text/plain": [
       "                                   Open          High           Low  \\\n",
       "Date                                                                  \n",
       "2014-09-17 00:00:00+00:00    465.864014    468.174011    452.421997   \n",
       "2014-09-18 00:00:00+00:00    456.859985    456.859985    413.104004   \n",
       "2014-09-19 00:00:00+00:00    424.102997    427.834991    384.532013   \n",
       "2014-09-20 00:00:00+00:00    394.673004    423.295990    389.882996   \n",
       "2014-09-21 00:00:00+00:00    408.084991    412.425995    393.181000   \n",
       "...                                 ...           ...           ...   \n",
       "2024-11-07 00:00:00+00:00  75637.085938  76943.117188  74480.421875   \n",
       "2024-11-08 00:00:00+00:00  75902.835938  77252.750000  75648.742188   \n",
       "2024-11-09 00:00:00+00:00  76556.187500  76932.765625  75773.789062   \n",
       "2024-11-10 00:00:00+00:00  76775.546875  81474.421875  76565.429688   \n",
       "2024-11-11 00:00:00+00:00  80444.125000  84961.062500  80444.125000   \n",
       "\n",
       "                                  Close       Volume  Dividends  Stock Splits  \n",
       "Date                                                                           \n",
       "2014-09-17 00:00:00+00:00    457.334015     21056800        0.0           0.0  \n",
       "2014-09-18 00:00:00+00:00    424.440002     34483200        0.0           0.0  \n",
       "2014-09-19 00:00:00+00:00    394.795990     37919700        0.0           0.0  \n",
       "2014-09-20 00:00:00+00:00    408.903992     36863600        0.0           0.0  \n",
       "2014-09-21 00:00:00+00:00    398.821014     26580100        0.0           0.0  \n",
       "...                                 ...          ...        ...           ...  \n",
       "2024-11-07 00:00:00+00:00  75904.859375  63467654989        0.0           0.0  \n",
       "2024-11-08 00:00:00+00:00  76545.476562  55176858003        0.0           0.0  \n",
       "2024-11-09 00:00:00+00:00  76778.867188  29009480361        0.0           0.0  \n",
       "2024-11-10 00:00:00+00:00  80474.187500  82570594495        0.0           0.0  \n",
       "2024-11-11 00:00:00+00:00  84506.726562  93990379520        0.0           0.0  \n",
       "\n",
       "[3709 rows x 7 columns]"
      ],
      "text/html": [
       "<div>\n",
       "<style scoped>\n",
       "    .dataframe tbody tr th:only-of-type {\n",
       "        vertical-align: middle;\n",
       "    }\n",
       "\n",
       "    .dataframe tbody tr th {\n",
       "        vertical-align: top;\n",
       "    }\n",
       "\n",
       "    .dataframe thead th {\n",
       "        text-align: right;\n",
       "    }\n",
       "</style>\n",
       "<table border=\"1\" class=\"dataframe\">\n",
       "  <thead>\n",
       "    <tr style=\"text-align: right;\">\n",
       "      <th></th>\n",
       "      <th>Open</th>\n",
       "      <th>High</th>\n",
       "      <th>Low</th>\n",
       "      <th>Close</th>\n",
       "      <th>Volume</th>\n",
       "      <th>Dividends</th>\n",
       "      <th>Stock Splits</th>\n",
       "    </tr>\n",
       "    <tr>\n",
       "      <th>Date</th>\n",
       "      <th></th>\n",
       "      <th></th>\n",
       "      <th></th>\n",
       "      <th></th>\n",
       "      <th></th>\n",
       "      <th></th>\n",
       "      <th></th>\n",
       "    </tr>\n",
       "  </thead>\n",
       "  <tbody>\n",
       "    <tr>\n",
       "      <th>2014-09-17 00:00:00+00:00</th>\n",
       "      <td>465.864014</td>\n",
       "      <td>468.174011</td>\n",
       "      <td>452.421997</td>\n",
       "      <td>457.334015</td>\n",
       "      <td>21056800</td>\n",
       "      <td>0.0</td>\n",
       "      <td>0.0</td>\n",
       "    </tr>\n",
       "    <tr>\n",
       "      <th>2014-09-18 00:00:00+00:00</th>\n",
       "      <td>456.859985</td>\n",
       "      <td>456.859985</td>\n",
       "      <td>413.104004</td>\n",
       "      <td>424.440002</td>\n",
       "      <td>34483200</td>\n",
       "      <td>0.0</td>\n",
       "      <td>0.0</td>\n",
       "    </tr>\n",
       "    <tr>\n",
       "      <th>2014-09-19 00:00:00+00:00</th>\n",
       "      <td>424.102997</td>\n",
       "      <td>427.834991</td>\n",
       "      <td>384.532013</td>\n",
       "      <td>394.795990</td>\n",
       "      <td>37919700</td>\n",
       "      <td>0.0</td>\n",
       "      <td>0.0</td>\n",
       "    </tr>\n",
       "    <tr>\n",
       "      <th>2014-09-20 00:00:00+00:00</th>\n",
       "      <td>394.673004</td>\n",
       "      <td>423.295990</td>\n",
       "      <td>389.882996</td>\n",
       "      <td>408.903992</td>\n",
       "      <td>36863600</td>\n",
       "      <td>0.0</td>\n",
       "      <td>0.0</td>\n",
       "    </tr>\n",
       "    <tr>\n",
       "      <th>2014-09-21 00:00:00+00:00</th>\n",
       "      <td>408.084991</td>\n",
       "      <td>412.425995</td>\n",
       "      <td>393.181000</td>\n",
       "      <td>398.821014</td>\n",
       "      <td>26580100</td>\n",
       "      <td>0.0</td>\n",
       "      <td>0.0</td>\n",
       "    </tr>\n",
       "    <tr>\n",
       "      <th>...</th>\n",
       "      <td>...</td>\n",
       "      <td>...</td>\n",
       "      <td>...</td>\n",
       "      <td>...</td>\n",
       "      <td>...</td>\n",
       "      <td>...</td>\n",
       "      <td>...</td>\n",
       "    </tr>\n",
       "    <tr>\n",
       "      <th>2024-11-07 00:00:00+00:00</th>\n",
       "      <td>75637.085938</td>\n",
       "      <td>76943.117188</td>\n",
       "      <td>74480.421875</td>\n",
       "      <td>75904.859375</td>\n",
       "      <td>63467654989</td>\n",
       "      <td>0.0</td>\n",
       "      <td>0.0</td>\n",
       "    </tr>\n",
       "    <tr>\n",
       "      <th>2024-11-08 00:00:00+00:00</th>\n",
       "      <td>75902.835938</td>\n",
       "      <td>77252.750000</td>\n",
       "      <td>75648.742188</td>\n",
       "      <td>76545.476562</td>\n",
       "      <td>55176858003</td>\n",
       "      <td>0.0</td>\n",
       "      <td>0.0</td>\n",
       "    </tr>\n",
       "    <tr>\n",
       "      <th>2024-11-09 00:00:00+00:00</th>\n",
       "      <td>76556.187500</td>\n",
       "      <td>76932.765625</td>\n",
       "      <td>75773.789062</td>\n",
       "      <td>76778.867188</td>\n",
       "      <td>29009480361</td>\n",
       "      <td>0.0</td>\n",
       "      <td>0.0</td>\n",
       "    </tr>\n",
       "    <tr>\n",
       "      <th>2024-11-10 00:00:00+00:00</th>\n",
       "      <td>76775.546875</td>\n",
       "      <td>81474.421875</td>\n",
       "      <td>76565.429688</td>\n",
       "      <td>80474.187500</td>\n",
       "      <td>82570594495</td>\n",
       "      <td>0.0</td>\n",
       "      <td>0.0</td>\n",
       "    </tr>\n",
       "    <tr>\n",
       "      <th>2024-11-11 00:00:00+00:00</th>\n",
       "      <td>80444.125000</td>\n",
       "      <td>84961.062500</td>\n",
       "      <td>80444.125000</td>\n",
       "      <td>84506.726562</td>\n",
       "      <td>93990379520</td>\n",
       "      <td>0.0</td>\n",
       "      <td>0.0</td>\n",
       "    </tr>\n",
       "  </tbody>\n",
       "</table>\n",
       "<p>3709 rows × 7 columns</p>\n",
       "</div>"
      ]
     },
     "execution_count": 6,
     "metadata": {},
     "output_type": "execute_result"
    }
   ],
   "execution_count": 6
  },
  {
   "metadata": {
    "ExecuteTime": {
     "end_time": "2024-11-14T01:25:26.009571Z",
     "start_time": "2024-11-14T01:25:25.996244Z"
    }
   },
   "cell_type": "code",
   "source": "btc.index = pd.to_datetime(btc.index)",
   "id": "fb62527a08e8883f",
   "outputs": [],
   "execution_count": 7
  },
  {
   "metadata": {
    "ExecuteTime": {
     "end_time": "2024-11-14T01:25:26.630683Z",
     "start_time": "2024-11-14T01:25:26.625755Z"
    }
   },
   "cell_type": "code",
   "source": [
    "del btc[\"Dividends\"]\n",
    "del btc[\"Stock Splits\"]"
   ],
   "id": "bd38971077d5659b",
   "outputs": [],
   "execution_count": 8
  },
  {
   "metadata": {
    "ExecuteTime": {
     "end_time": "2024-11-14T01:25:27.320499Z",
     "start_time": "2024-11-14T01:25:27.317469Z"
    }
   },
   "cell_type": "code",
   "source": "btc.columns = [c.lower() for c in btc.columns]",
   "id": "bf49494357c31426",
   "outputs": [],
   "execution_count": 9
  },
  {
   "metadata": {
    "ExecuteTime": {
     "end_time": "2024-11-14T01:25:28.174471Z",
     "start_time": "2024-11-14T01:25:28.165947Z"
    }
   },
   "cell_type": "code",
   "source": "btc",
   "id": "74a16653c23c049e",
   "outputs": [
    {
     "data": {
      "text/plain": [
       "                                   open          high           low  \\\n",
       "Date                                                                  \n",
       "2014-09-17 00:00:00+00:00    465.864014    468.174011    452.421997   \n",
       "2014-09-18 00:00:00+00:00    456.859985    456.859985    413.104004   \n",
       "2014-09-19 00:00:00+00:00    424.102997    427.834991    384.532013   \n",
       "2014-09-20 00:00:00+00:00    394.673004    423.295990    389.882996   \n",
       "2014-09-21 00:00:00+00:00    408.084991    412.425995    393.181000   \n",
       "...                                 ...           ...           ...   \n",
       "2024-11-07 00:00:00+00:00  75637.085938  76943.117188  74480.421875   \n",
       "2024-11-08 00:00:00+00:00  75902.835938  77252.750000  75648.742188   \n",
       "2024-11-09 00:00:00+00:00  76556.187500  76932.765625  75773.789062   \n",
       "2024-11-10 00:00:00+00:00  76775.546875  81474.421875  76565.429688   \n",
       "2024-11-11 00:00:00+00:00  80444.125000  84961.062500  80444.125000   \n",
       "\n",
       "                                  close       volume  \n",
       "Date                                                  \n",
       "2014-09-17 00:00:00+00:00    457.334015     21056800  \n",
       "2014-09-18 00:00:00+00:00    424.440002     34483200  \n",
       "2014-09-19 00:00:00+00:00    394.795990     37919700  \n",
       "2014-09-20 00:00:00+00:00    408.903992     36863600  \n",
       "2014-09-21 00:00:00+00:00    398.821014     26580100  \n",
       "...                                 ...          ...  \n",
       "2024-11-07 00:00:00+00:00  75904.859375  63467654989  \n",
       "2024-11-08 00:00:00+00:00  76545.476562  55176858003  \n",
       "2024-11-09 00:00:00+00:00  76778.867188  29009480361  \n",
       "2024-11-10 00:00:00+00:00  80474.187500  82570594495  \n",
       "2024-11-11 00:00:00+00:00  84506.726562  93990379520  \n",
       "\n",
       "[3709 rows x 5 columns]"
      ],
      "text/html": [
       "<div>\n",
       "<style scoped>\n",
       "    .dataframe tbody tr th:only-of-type {\n",
       "        vertical-align: middle;\n",
       "    }\n",
       "\n",
       "    .dataframe tbody tr th {\n",
       "        vertical-align: top;\n",
       "    }\n",
       "\n",
       "    .dataframe thead th {\n",
       "        text-align: right;\n",
       "    }\n",
       "</style>\n",
       "<table border=\"1\" class=\"dataframe\">\n",
       "  <thead>\n",
       "    <tr style=\"text-align: right;\">\n",
       "      <th></th>\n",
       "      <th>open</th>\n",
       "      <th>high</th>\n",
       "      <th>low</th>\n",
       "      <th>close</th>\n",
       "      <th>volume</th>\n",
       "    </tr>\n",
       "    <tr>\n",
       "      <th>Date</th>\n",
       "      <th></th>\n",
       "      <th></th>\n",
       "      <th></th>\n",
       "      <th></th>\n",
       "      <th></th>\n",
       "    </tr>\n",
       "  </thead>\n",
       "  <tbody>\n",
       "    <tr>\n",
       "      <th>2014-09-17 00:00:00+00:00</th>\n",
       "      <td>465.864014</td>\n",
       "      <td>468.174011</td>\n",
       "      <td>452.421997</td>\n",
       "      <td>457.334015</td>\n",
       "      <td>21056800</td>\n",
       "    </tr>\n",
       "    <tr>\n",
       "      <th>2014-09-18 00:00:00+00:00</th>\n",
       "      <td>456.859985</td>\n",
       "      <td>456.859985</td>\n",
       "      <td>413.104004</td>\n",
       "      <td>424.440002</td>\n",
       "      <td>34483200</td>\n",
       "    </tr>\n",
       "    <tr>\n",
       "      <th>2014-09-19 00:00:00+00:00</th>\n",
       "      <td>424.102997</td>\n",
       "      <td>427.834991</td>\n",
       "      <td>384.532013</td>\n",
       "      <td>394.795990</td>\n",
       "      <td>37919700</td>\n",
       "    </tr>\n",
       "    <tr>\n",
       "      <th>2014-09-20 00:00:00+00:00</th>\n",
       "      <td>394.673004</td>\n",
       "      <td>423.295990</td>\n",
       "      <td>389.882996</td>\n",
       "      <td>408.903992</td>\n",
       "      <td>36863600</td>\n",
       "    </tr>\n",
       "    <tr>\n",
       "      <th>2014-09-21 00:00:00+00:00</th>\n",
       "      <td>408.084991</td>\n",
       "      <td>412.425995</td>\n",
       "      <td>393.181000</td>\n",
       "      <td>398.821014</td>\n",
       "      <td>26580100</td>\n",
       "    </tr>\n",
       "    <tr>\n",
       "      <th>...</th>\n",
       "      <td>...</td>\n",
       "      <td>...</td>\n",
       "      <td>...</td>\n",
       "      <td>...</td>\n",
       "      <td>...</td>\n",
       "    </tr>\n",
       "    <tr>\n",
       "      <th>2024-11-07 00:00:00+00:00</th>\n",
       "      <td>75637.085938</td>\n",
       "      <td>76943.117188</td>\n",
       "      <td>74480.421875</td>\n",
       "      <td>75904.859375</td>\n",
       "      <td>63467654989</td>\n",
       "    </tr>\n",
       "    <tr>\n",
       "      <th>2024-11-08 00:00:00+00:00</th>\n",
       "      <td>75902.835938</td>\n",
       "      <td>77252.750000</td>\n",
       "      <td>75648.742188</td>\n",
       "      <td>76545.476562</td>\n",
       "      <td>55176858003</td>\n",
       "    </tr>\n",
       "    <tr>\n",
       "      <th>2024-11-09 00:00:00+00:00</th>\n",
       "      <td>76556.187500</td>\n",
       "      <td>76932.765625</td>\n",
       "      <td>75773.789062</td>\n",
       "      <td>76778.867188</td>\n",
       "      <td>29009480361</td>\n",
       "    </tr>\n",
       "    <tr>\n",
       "      <th>2024-11-10 00:00:00+00:00</th>\n",
       "      <td>76775.546875</td>\n",
       "      <td>81474.421875</td>\n",
       "      <td>76565.429688</td>\n",
       "      <td>80474.187500</td>\n",
       "      <td>82570594495</td>\n",
       "    </tr>\n",
       "    <tr>\n",
       "      <th>2024-11-11 00:00:00+00:00</th>\n",
       "      <td>80444.125000</td>\n",
       "      <td>84961.062500</td>\n",
       "      <td>80444.125000</td>\n",
       "      <td>84506.726562</td>\n",
       "      <td>93990379520</td>\n",
       "    </tr>\n",
       "  </tbody>\n",
       "</table>\n",
       "<p>3709 rows × 5 columns</p>\n",
       "</div>"
      ]
     },
     "execution_count": 10,
     "metadata": {},
     "output_type": "execute_result"
    }
   ],
   "execution_count": 10
  },
  {
   "metadata": {
    "ExecuteTime": {
     "end_time": "2024-11-14T01:27:24.440622Z",
     "start_time": "2024-11-14T01:27:23.391664Z"
    }
   },
   "cell_type": "code",
   "source": "btc.plot.line(y='close', use_index=True)",
   "id": "af30fb3743c70b7c",
   "outputs": [
    {
     "data": {
      "text/plain": [
       "<Axes: xlabel='Date'>"
      ]
     },
     "execution_count": 11,
     "metadata": {},
     "output_type": "execute_result"
    },
    {
     "data": {
      "text/plain": [
       "<Figure size 640x480 with 1 Axes>"
      ],
      "image/png": "[encoded data removed]"
     },
     "metadata": {},
     "output_type": "display_data"
    }
   ],
   "execution_count": 11
  },
  {
   "metadata": {
    "ExecuteTime": {
     "end_time": "2024-11-14T01:27:25.170382Z",
     "start_time": "2024-11-14T01:27:25.149817Z"
    }
   },
   "cell_type": "code",
   "source": "wiki = pd.read_csv('wikipedia_edits.csv', index_col=0, parse_dates=True)",
   "id": "f2c5594732de51b9",
   "outputs": [],
   "execution_count": 12
  },
  {
   "metadata": {
    "ExecuteTime": {
     "end_time": "2024-11-14T01:27:26.121820Z",
     "start_time": "2024-11-14T01:27:26.114021Z"
    }
   },
   "cell_type": "code",
   "source": "wiki",
   "id": "cfb3f04d8afd6292",
   "outputs": [
    {
     "data": {
      "text/plain": [
       "            edit_count  sentiment  neg_sentiment\n",
       "2009-04-06    0.133333  -0.018351       0.025000\n",
       "2009-04-07    0.000000   0.000000       0.000000\n",
       "2009-04-08    0.000000   0.000000       0.000000\n",
       "2009-04-09    0.000000   0.000000       0.000000\n",
       "2009-04-10    0.000000   0.000000       0.000000\n",
       "...                ...        ...            ...\n",
       "2024-11-09    0.300000   0.028332       0.066667\n",
       "2024-11-10    0.433333   0.009679       0.091667\n",
       "2024-11-11    0.400000   0.042980       0.058333\n",
       "2024-11-12    0.400000   0.042980       0.058333\n",
       "2024-11-13    0.400000   0.042980       0.058333\n",
       "\n",
       "[5701 rows x 3 columns]"
      ],
      "text/html": [
       "<div>\n",
       "<style scoped>\n",
       "    .dataframe tbody tr th:only-of-type {\n",
       "        vertical-align: middle;\n",
       "    }\n",
       "\n",
       "    .dataframe tbody tr th {\n",
       "        vertical-align: top;\n",
       "    }\n",
       "\n",
       "    .dataframe thead th {\n",
       "        text-align: right;\n",
       "    }\n",
       "</style>\n",
       "<table border=\"1\" class=\"dataframe\">\n",
       "  <thead>\n",
       "    <tr style=\"text-align: right;\">\n",
       "      <th></th>\n",
       "      <th>edit_count</th>\n",
       "      <th>sentiment</th>\n",
       "      <th>neg_sentiment</th>\n",
       "    </tr>\n",
       "  </thead>\n",
       "  <tbody>\n",
       "    <tr>\n",
       "      <th>2009-04-06</th>\n",
       "      <td>0.133333</td>\n",
       "      <td>-0.018351</td>\n",
       "      <td>0.025000</td>\n",
       "    </tr>\n",
       "    <tr>\n",
       "      <th>2009-04-07</th>\n",
       "      <td>0.000000</td>\n",
       "      <td>0.000000</td>\n",
       "      <td>0.000000</td>\n",
       "    </tr>\n",
       "    <tr>\n",
       "      <th>2009-04-08</th>\n",
       "      <td>0.000000</td>\n",
       "      <td>0.000000</td>\n",
       "      <td>0.000000</td>\n",
       "    </tr>\n",
       "    <tr>\n",
       "      <th>2009-04-09</th>\n",
       "      <td>0.000000</td>\n",
       "      <td>0.000000</td>\n",
       "      <td>0.000000</td>\n",
       "    </tr>\n",
       "    <tr>\n",
       "      <th>2009-04-10</th>\n",
       "      <td>0.000000</td>\n",
       "      <td>0.000000</td>\n",
       "      <td>0.000000</td>\n",
       "    </tr>\n",
       "    <tr>\n",
       "      <th>...</th>\n",
       "      <td>...</td>\n",
       "      <td>...</td>\n",
       "      <td>...</td>\n",
       "    </tr>\n",
       "    <tr>\n",
       "      <th>2024-11-09</th>\n",
       "      <td>0.300000</td>\n",
       "      <td>0.028332</td>\n",
       "      <td>0.066667</td>\n",
       "    </tr>\n",
       "    <tr>\n",
       "      <th>2024-11-10</th>\n",
       "      <td>0.433333</td>\n",
       "      <td>0.009679</td>\n",
       "      <td>0.091667</td>\n",
       "    </tr>\n",
       "    <tr>\n",
       "      <th>2024-11-11</th>\n",
       "      <td>0.400000</td>\n",
       "      <td>0.042980</td>\n",
       "      <td>0.058333</td>\n",
       "    </tr>\n",
       "    <tr>\n",
       "      <th>2024-11-12</th>\n",
       "      <td>0.400000</td>\n",
       "      <td>0.042980</td>\n",
       "      <td>0.058333</td>\n",
       "    </tr>\n",
       "    <tr>\n",
       "      <th>2024-11-13</th>\n",
       "      <td>0.400000</td>\n",
       "      <td>0.042980</td>\n",
       "      <td>0.058333</td>\n",
       "    </tr>\n",
       "  </tbody>\n",
       "</table>\n",
       "<p>5701 rows × 3 columns</p>\n",
       "</div>"
      ]
     },
     "execution_count": 13,
     "metadata": {},
     "output_type": "execute_result"
    }
   ],
   "execution_count": 13
  },
  {
   "metadata": {
    "ExecuteTime": {
     "end_time": "2024-11-14T01:27:33.647772Z",
     "start_time": "2024-11-14T01:27:33.644427Z"
    }
   },
   "cell_type": "code",
   "source": "wiki.index = wiki.index.tz_localize(\"UTC\")",
   "id": "5ae732e3fc29e1da",
   "outputs": [],
   "execution_count": 14
  },
  {
   "metadata": {
    "ExecuteTime": {
     "end_time": "2024-11-14T01:27:34.580462Z",
     "start_time": "2024-11-14T01:27:34.575897Z"
    }
   },
   "cell_type": "code",
   "source": [
    "# converting time zone\n",
    "print(btc.index.tz)\n",
    "print(wiki.index.tz)"
   ],
   "id": "5a5f5fa1f76d167b",
   "outputs": [
    {
     "name": "stdout",
     "output_type": "stream",
     "text": [
      "UTC\n",
      "UTC\n"
     ]
    }
   ],
   "execution_count": 15
  },
  {
   "metadata": {
    "ExecuteTime": {
     "end_time": "2024-11-14T01:27:37.558976Z",
     "start_time": "2024-11-14T01:27:37.553843Z"
    }
   },
   "cell_type": "code",
   "source": "btc = btc.merge(wiki, left_index=True, right_index=True)",
   "id": "8dc6096cddd57323",
   "outputs": [],
   "execution_count": 16
  },
  {
   "metadata": {
    "ExecuteTime": {
     "end_time": "2024-11-14T01:27:38.833292Z",
     "start_time": "2024-11-14T01:27:38.827962Z"
    }
   },
   "cell_type": "code",
   "source": "btc['tomorrow'] = btc['close'].shift(-1)",
   "id": "7222c2a06ec15d44",
   "outputs": [],
   "execution_count": 17
  },
  {
   "metadata": {
    "ExecuteTime": {
     "end_time": "2024-11-14T01:27:39.167939Z",
     "start_time": "2024-11-14T01:27:39.163490Z"
    }
   },
   "cell_type": "code",
   "source": "btc['target'] = (btc['tomorrow'] > btc[\"close\"]).astype(int)",
   "id": "252ce65efc36963b",
   "outputs": [],
   "execution_count": 18
  },
  {
   "metadata": {
    "ExecuteTime": {
     "end_time": "2024-11-14T01:27:39.484195Z",
     "start_time": "2024-11-14T01:27:39.479222Z"
    }
   },
   "cell_type": "code",
   "source": "btc[\"target\"].value_counts()",
   "id": "82d500bd59b2e013",
   "outputs": [
    {
     "data": {
      "text/plain": [
       "target\n",
       "1    1961\n",
       "0    1748\n",
       "Name: count, dtype: int64"
      ]
     },
     "execution_count": 19,
     "metadata": {},
     "output_type": "execute_result"
    }
   ],
   "execution_count": 19
  },
  {
   "metadata": {
    "ExecuteTime": {
     "end_time": "2024-11-14T01:27:40.176861Z",
     "start_time": "2024-11-14T01:27:40.169362Z"
    }
   },
   "cell_type": "code",
   "source": "btc",
   "id": "4c8fbe66a027d98b",
   "outputs": [
    {
     "data": {
      "text/plain": [
       "                                   open          high           low  \\\n",
       "2014-09-17 00:00:00+00:00    465.864014    468.174011    452.421997   \n",
       "2014-09-18 00:00:00+00:00    456.859985    456.859985    413.104004   \n",
       "2014-09-19 00:00:00+00:00    424.102997    427.834991    384.532013   \n",
       "2014-09-20 00:00:00+00:00    394.673004    423.295990    389.882996   \n",
       "2014-09-21 00:00:00+00:00    408.084991    412.425995    393.181000   \n",
       "...                                 ...           ...           ...   \n",
       "2024-11-07 00:00:00+00:00  75637.085938  76943.117188  74480.421875   \n",
       "2024-11-08 00:00:00+00:00  75902.835938  77252.750000  75648.742188   \n",
       "2024-11-09 00:00:00+00:00  76556.187500  76932.765625  75773.789062   \n",
       "2024-11-10 00:00:00+00:00  76775.546875  81474.421875  76565.429688   \n",
       "2024-11-11 00:00:00+00:00  80444.125000  84961.062500  80444.125000   \n",
       "\n",
       "                                  close       volume  edit_count  sentiment  \\\n",
       "2014-09-17 00:00:00+00:00    457.334015     21056800    5.033333  -0.232191   \n",
       "2014-09-18 00:00:00+00:00    424.440002     34483200    5.066667  -0.232760   \n",
       "2014-09-19 00:00:00+00:00    394.795990     37919700    5.200000  -0.235415   \n",
       "2014-09-20 00:00:00+00:00    408.903992     36863600    5.200000  -0.233185   \n",
       "2014-09-21 00:00:00+00:00    398.821014     26580100    5.233333  -0.204017   \n",
       "...                                 ...          ...         ...        ...   \n",
       "2024-11-07 00:00:00+00:00  75904.859375  63467654989    0.266667  -0.004846   \n",
       "2024-11-08 00:00:00+00:00  76545.476562  55176858003    0.266667  -0.004846   \n",
       "2024-11-09 00:00:00+00:00  76778.867188  29009480361    0.300000   0.028332   \n",
       "2024-11-10 00:00:00+00:00  80474.187500  82570594495    0.433333   0.009679   \n",
       "2024-11-11 00:00:00+00:00  84506.726562  93990379520    0.400000   0.042980   \n",
       "\n",
       "                           neg_sentiment      tomorrow  target  \n",
       "2014-09-17 00:00:00+00:00       0.532718    424.440002       0  \n",
       "2014-09-18 00:00:00+00:00       0.532718    394.795990       0  \n",
       "2014-09-19 00:00:00+00:00       0.549385    408.903992       1  \n",
       "2014-09-20 00:00:00+00:00       0.549385    398.821014       0  \n",
       "2014-09-21 00:00:00+00:00       0.532718    402.152008       1  \n",
       "...                                  ...           ...     ...  \n",
       "2024-11-07 00:00:00+00:00       0.066667  76545.476562       1  \n",
       "2024-11-08 00:00:00+00:00       0.066667  76778.867188       1  \n",
       "2024-11-09 00:00:00+00:00       0.066667  80474.187500       1  \n",
       "2024-11-10 00:00:00+00:00       0.091667  84506.726562       1  \n",
       "2024-11-11 00:00:00+00:00       0.058333           NaN       0  \n",
       "\n",
       "[3709 rows x 10 columns]"
      ],
      "text/html": [
       "<div>\n",
       "<style scoped>\n",
       "    .dataframe tbody tr th:only-of-type {\n",
       "        vertical-align: middle;\n",
       "    }\n",
       "\n",
       "    .dataframe tbody tr th {\n",
       "        vertical-align: top;\n",
       "    }\n",
       "\n",
       "    .dataframe thead th {\n",
       "        text-align: right;\n",
       "    }\n",
       "</style>\n",
       "<table border=\"1\" class=\"dataframe\">\n",
       "  <thead>\n",
       "    <tr style=\"text-align: right;\">\n",
       "      <th></th>\n",
       "      <th>open</th>\n",
       "      <th>high</th>\n",
       "      <th>low</th>\n",
       "      <th>close</th>\n",
       "      <th>volume</th>\n",
       "      <th>edit_count</th>\n",
       "      <th>sentiment</th>\n",
       "      <th>neg_sentiment</th>\n",
       "      <th>tomorrow</th>\n",
       "      <th>target</th>\n",
       "    </tr>\n",
       "  </thead>\n",
       "  <tbody>\n",
       "    <tr>\n",
       "      <th>2014-09-17 00:00:00+00:00</th>\n",
       "      <td>465.864014</td>\n",
       "      <td>468.174011</td>\n",
       "      <td>452.421997</td>\n",
       "      <td>457.334015</td>\n",
       "      <td>21056800</td>\n",
       "      <td>5.033333</td>\n",
       "      <td>-0.232191</td>\n",
       "      <td>0.532718</td>\n",
       "      <td>424.440002</td>\n",
       "      <td>0</td>\n",
       "    </tr>\n",
       "    <tr>\n",
       "      <th>2014-09-18 00:00:00+00:00</th>\n",
       "      <td>456.859985</td>\n",
       "      <td>456.859985</td>\n",
       "      <td>413.104004</td>\n",
       "      <td>424.440002</td>\n",
       "      <td>34483200</td>\n",
       "      <td>5.066667</td>\n",
       "      <td>-0.232760</td>\n",
       "      <td>0.532718</td>\n",
       "      <td>394.795990</td>\n",
       "      <td>0</td>\n",
       "    </tr>\n",
       "    <tr>\n",
       "      <th>2014-09-19 00:00:00+00:00</th>\n",
       "      <td>424.102997</td>\n",
       "      <td>427.834991</td>\n",
       "      <td>384.532013</td>\n",
       "      <td>394.795990</td>\n",
       "      <td>37919700</td>\n",
       "      <td>5.200000</td>\n",
       "      <td>-0.235415</td>\n",
       "      <td>0.549385</td>\n",
       "      <td>408.903992</td>\n",
       "      <td>1</td>\n",
       "    </tr>\n",
       "    <tr>\n",
       "      <th>2014-09-20 00:00:00+00:00</th>\n",
       "      <td>394.673004</td>\n",
       "      <td>423.295990</td>\n",
       "      <td>389.882996</td>\n",
       "      <td>408.903992</td>\n",
       "      <td>36863600</td>\n",
       "      <td>5.200000</td>\n",
       "      <td>-0.233185</td>\n",
       "      <td>0.549385</td>\n",
       "      <td>398.821014</td>\n",
       "      <td>0</td>\n",
       "    </tr>\n",
       "    <tr>\n",
       "      <th>2014-09-21 00:00:00+00:00</th>\n",
       "      <td>408.084991</td>\n",
       "      <td>412.425995</td>\n",
       "      <td>393.181000</td>\n",
       "      <td>398.821014</td>\n",
       "      <td>26580100</td>\n",
       "      <td>5.233333</td>\n",
       "      <td>-0.204017</td>\n",
       "      <td>0.532718</td>\n",
       "      <td>402.152008</td>\n",
       "      <td>1</td>\n",
       "    </tr>\n",
       "    <tr>\n",
       "      <th>...</th>\n",
       "      <td>...</td>\n",
       "      <td>...</td>\n",
       "      <td>...</td>\n",
       "      <td>...</td>\n",
       "      <td>...</td>\n",
       "      <td>...</td>\n",
       "      <td>...</td>\n",
       "      <td>...</td>\n",
       "      <td>...</td>\n",
       "      <td>...</td>\n",
       "    </tr>\n",
       "    <tr>\n",
       "      <th>2024-11-07 00:00:00+00:00</th>\n",
       "      <td>75637.085938</td>\n",
       "      <td>76943.117188</td>\n",
       "      <td>74480.421875</td>\n",
       "      <td>75904.859375</td>\n",
       "      <td>63467654989</td>\n",
       "      <td>0.266667</td>\n",
       "      <td>-0.004846</td>\n",
       "      <td>0.066667</td>\n",
       "      <td>76545.476562</td>\n",
       "      <td>1</td>\n",
       "    </tr>\n",
       "    <tr>\n",
       "      <th>2024-11-08 00:00:00+00:00</th>\n",
       "      <td>75902.835938</td>\n",
       "      <td>77252.750000</td>\n",
       "      <td>75648.742188</td>\n",
       "      <td>76545.476562</td>\n",
       "      <td>55176858003</td>\n",
       "      <td>0.266667</td>\n",
       "      <td>-0.004846</td>\n",
       "      <td>0.066667</td>\n",
       "      <td>76778.867188</td>\n",
       "      <td>1</td>\n",
       "    </tr>\n",
       "    <tr>\n",
       "      <th>2024-11-09 00:00:00+00:00</th>\n",
       "      <td>76556.187500</td>\n",
       "      <td>76932.765625</td>\n",
       "      <td>75773.789062</td>\n",
       "      <td>76778.867188</td>\n",
       "      <td>29009480361</td>\n",
       "      <td>0.300000</td>\n",
       "      <td>0.028332</td>\n",
       "      <td>0.066667</td>\n",
       "      <td>80474.187500</td>\n",
       "      <td>1</td>\n",
       "    </tr>\n",
       "    <tr>\n",
       "      <th>2024-11-10 00:00:00+00:00</th>\n",
       "      <td>76775.546875</td>\n",
       "      <td>81474.421875</td>\n",
       "      <td>76565.429688</td>\n",
       "      <td>80474.187500</td>\n",
       "      <td>82570594495</td>\n",
       "      <td>0.433333</td>\n",
       "      <td>0.009679</td>\n",
       "      <td>0.091667</td>\n",
       "      <td>84506.726562</td>\n",
       "      <td>1</td>\n",
       "    </tr>\n",
       "    <tr>\n",
       "      <th>2024-11-11 00:00:00+00:00</th>\n",
       "      <td>80444.125000</td>\n",
       "      <td>84961.062500</td>\n",
       "      <td>80444.125000</td>\n",
       "      <td>84506.726562</td>\n",
       "      <td>93990379520</td>\n",
       "      <td>0.400000</td>\n",
       "      <td>0.042980</td>\n",
       "      <td>0.058333</td>\n",
       "      <td>NaN</td>\n",
       "      <td>0</td>\n",
       "    </tr>\n",
       "  </tbody>\n",
       "</table>\n",
       "<p>3709 rows × 10 columns</p>\n",
       "</div>"
      ]
     },
     "execution_count": 20,
     "metadata": {},
     "output_type": "execute_result"
    }
   ],
   "execution_count": 20
  },
  {
   "metadata": {
    "ExecuteTime": {
     "end_time": "2024-11-14T01:29:11.000689Z",
     "start_time": "2024-11-14T01:29:10.871047Z"
    }
   },
   "cell_type": "code",
   "source": [
    "btc.index = pd.to_datetime(btc.index)\n",
    "# del btc[\"Dividends\"]\n",
    "# del btc[\"Stock Splits\"]\n",
    "btc.columns = [c.lower() for c in btc.columns]\n",
    "btc.plot.line(y='close', use_index=True)\n",
    "btc"
   ],
   "id": "6de7b47e0727e9fd",
   "outputs": [
    {
     "data": {
      "text/plain": [
       "                                   open          high           low  \\\n",
       "2014-09-17 00:00:00+00:00    465.864014    468.174011    452.421997   \n",
       "2014-09-18 00:00:00+00:00    456.859985    456.859985    413.104004   \n",
       "2014-09-19 00:00:00+00:00    424.102997    427.834991    384.532013   \n",
       "2014-09-20 00:00:00+00:00    394.673004    423.295990    389.882996   \n",
       "2014-09-21 00:00:00+00:00    408.084991    412.425995    393.181000   \n",
       "...                                 ...           ...           ...   \n",
       "2024-11-07 00:00:00+00:00  75637.085938  76943.117188  74480.421875   \n",
       "2024-11-08 00:00:00+00:00  75902.835938  77252.750000  75648.742188   \n",
       "2024-11-09 00:00:00+00:00  76556.187500  76932.765625  75773.789062   \n",
       "2024-11-10 00:00:00+00:00  76775.546875  81474.421875  76565.429688   \n",
       "2024-11-11 00:00:00+00:00  80444.125000  84961.062500  80444.125000   \n",
       "\n",
       "                                  close       volume  edit_count  sentiment  \\\n",
       "2014-09-17 00:00:00+00:00    457.334015     21056800    5.033333  -0.232191   \n",
       "2014-09-18 00:00:00+00:00    424.440002     34483200    5.066667  -0.232760   \n",
       "2014-09-19 00:00:00+00:00    394.795990     37919700    5.200000  -0.235415   \n",
       "2014-09-20 00:00:00+00:00    408.903992     36863600    5.200000  -0.233185   \n",
       "2014-09-21 00:00:00+00:00    398.821014     26580100    5.233333  -0.204017   \n",
       "...                                 ...          ...         ...        ...   \n",
       "2024-11-07 00:00:00+00:00  75904.859375  63467654989    0.266667  -0.004846   \n",
       "2024-11-08 00:00:00+00:00  76545.476562  55176858003    0.266667  -0.004846   \n",
       "2024-11-09 00:00:00+00:00  76778.867188  29009480361    0.300000   0.028332   \n",
       "2024-11-10 00:00:00+00:00  80474.187500  82570594495    0.433333   0.009679   \n",
       "2024-11-11 00:00:00+00:00  84506.726562  93990379520    0.400000   0.042980   \n",
       "\n",
       "                           neg_sentiment      tomorrow  target  \n",
       "2014-09-17 00:00:00+00:00       0.532718    424.440002       0  \n",
       "2014-09-18 00:00:00+00:00       0.532718    394.795990       0  \n",
       "2014-09-19 00:00:00+00:00       0.549385    408.903992       1  \n",
       "2014-09-20 00:00:00+00:00       0.549385    398.821014       0  \n",
       "2014-09-21 00:00:00+00:00       0.532718    402.152008       1  \n",
       "...                                  ...           ...     ...  \n",
       "2024-11-07 00:00:00+00:00       0.066667  76545.476562       1  \n",
       "2024-11-08 00:00:00+00:00       0.066667  76778.867188       1  \n",
       "2024-11-09 00:00:00+00:00       0.066667  80474.187500       1  \n",
       "2024-11-10 00:00:00+00:00       0.091667  84506.726562       1  \n",
       "2024-11-11 00:00:00+00:00       0.058333           NaN       0  \n",
       "\n",
       "[3709 rows x 10 columns]"
      ],
      "text/html": [
       "<div>\n",
       "<style scoped>\n",
       "    .dataframe tbody tr th:only-of-type {\n",
       "        vertical-align: middle;\n",
       "    }\n",
       "\n",
       "    .dataframe tbody tr th {\n",
       "        vertical-align: top;\n",
       "    }\n",
       "\n",
       "    .dataframe thead th {\n",
       "        text-align: right;\n",
       "    }\n",
       "</style>\n",
       "<table border=\"1\" class=\"dataframe\">\n",
       "  <thead>\n",
       "    <tr style=\"text-align: right;\">\n",
       "      <th></th>\n",
       "      <th>open</th>\n",
       "      <th>high</th>\n",
       "      <th>low</th>\n",
       "      <th>close</th>\n",
       "      <th>volume</th>\n",
       "      <th>edit_count</th>\n",
       "      <th>sentiment</th>\n",
       "      <th>neg_sentiment</th>\n",
       "      <th>tomorrow</th>\n",
       "      <th>target</th>\n",
       "    </tr>\n",
       "  </thead>\n",
       "  <tbody>\n",
       "    <tr>\n",
       "      <th>2014-09-17 00:00:00+00:00</th>\n",
       "      <td>465.864014</td>\n",
       "      <td>468.174011</td>\n",
       "      <td>452.421997</td>\n",
       "      <td>457.334015</td>\n",
       "      <td>21056800</td>\n",
       "      <td>5.033333</td>\n",
       "      <td>-0.232191</td>\n",
       "      <td>0.532718</td>\n",
       "      <td>424.440002</td>\n",
       "      <td>0</td>\n",
       "    </tr>\n",
       "    <tr>\n",
       "      <th>2014-09-18 00:00:00+00:00</th>\n",
       "      <td>456.859985</td>\n",
       "      <td>456.859985</td>\n",
       "      <td>413.104004</td>\n",
       "      <td>424.440002</td>\n",
       "      <td>34483200</td>\n",
       "      <td>5.066667</td>\n",
       "      <td>-0.232760</td>\n",
       "      <td>0.532718</td>\n",
       "      <td>394.795990</td>\n",
       "      <td>0</td>\n",
       "    </tr>\n",
       "    <tr>\n",
       "      <th>2014-09-19 00:00:00+00:00</th>\n",
       "      <td>424.102997</td>\n",
       "      <td>427.834991</td>\n",
       "      <td>384.532013</td>\n",
       "      <td>394.795990</td>\n",
       "      <td>37919700</td>\n",
       "      <td>5.200000</td>\n",
       "      <td>-0.235415</td>\n",
       "      <td>0.549385</td>\n",
       "      <td>408.903992</td>\n",
       "      <td>1</td>\n",
       "    </tr>\n",
       "    <tr>\n",
       "      <th>2014-09-20 00:00:00+00:00</th>\n",
       "      <td>394.673004</td>\n",
       "      <td>423.295990</td>\n",
       "      <td>389.882996</td>\n",
       "      <td>408.903992</td>\n",
       "      <td>36863600</td>\n",
       "      <td>5.200000</td>\n",
       "      <td>-0.233185</td>\n",
       "      <td>0.549385</td>\n",
       "      <td>398.821014</td>\n",
       "      <td>0</td>\n",
       "    </tr>\n",
       "    <tr>\n",
       "      <th>2014-09-21 00:00:00+00:00</th>\n",
       "      <td>408.084991</td>\n",
       "      <td>412.425995</td>\n",
       "      <td>393.181000</td>\n",
       "      <td>398.821014</td>\n",
       "      <td>26580100</td>\n",
       "      <td>5.233333</td>\n",
       "      <td>-0.204017</td>\n",
       "      <td>0.532718</td>\n",
       "      <td>402.152008</td>\n",
       "      <td>1</td>\n",
       "    </tr>\n",
       "    <tr>\n",
       "      <th>...</th>\n",
       "      <td>...</td>\n",
       "      <td>...</td>\n",
       "      <td>...</td>\n",
       "      <td>...</td>\n",
       "      <td>...</td>\n",
       "      <td>...</td>\n",
       "      <td>...</td>\n",
       "      <td>...</td>\n",
       "      <td>...</td>\n",
       "      <td>...</td>\n",
       "    </tr>\n",
       "    <tr>\n",
       "      <th>2024-11-07 00:00:00+00:00</th>\n",
       "      <td>75637.085938</td>\n",
       "      <td>76943.117188</td>\n",
       "      <td>74480.421875</td>\n",
       "      <td>75904.859375</td>\n",
       "      <td>63467654989</td>\n",
       "      <td>0.266667</td>\n",
       "      <td>-0.004846</td>\n",
       "      <td>0.066667</td>\n",
       "      <td>76545.476562</td>\n",
       "      <td>1</td>\n",
       "    </tr>\n",
       "    <tr>\n",
       "      <th>2024-11-08 00:00:00+00:00</th>\n",
       "      <td>75902.835938</td>\n",
       "      <td>77252.750000</td>\n",
       "      <td>75648.742188</td>\n",
       "      <td>76545.476562</td>\n",
       "      <td>55176858003</td>\n",
       "      <td>0.266667</td>\n",
       "      <td>-0.004846</td>\n",
       "      <td>0.066667</td>\n",
       "      <td>76778.867188</td>\n",
       "      <td>1</td>\n",
       "    </tr>\n",
       "    <tr>\n",
       "      <th>2024-11-09 00:00:00+00:00</th>\n",
       "      <td>76556.187500</td>\n",
       "      <td>76932.765625</td>\n",
       "      <td>75773.789062</td>\n",
       "      <td>76778.867188</td>\n",
       "      <td>29009480361</td>\n",
       "      <td>0.300000</td>\n",
       "      <td>0.028332</td>\n",
       "      <td>0.066667</td>\n",
       "      <td>80474.187500</td>\n",
       "      <td>1</td>\n",
       "    </tr>\n",
       "    <tr>\n",
       "      <th>2024-11-10 00:00:00+00:00</th>\n",
       "      <td>76775.546875</td>\n",
       "      <td>81474.421875</td>\n",
       "      <td>76565.429688</td>\n",
       "      <td>80474.187500</td>\n",
       "      <td>82570594495</td>\n",
       "      <td>0.433333</td>\n",
       "      <td>0.009679</td>\n",
       "      <td>0.091667</td>\n",
       "      <td>84506.726562</td>\n",
       "      <td>1</td>\n",
       "    </tr>\n",
       "    <tr>\n",
       "      <th>2024-11-11 00:00:00+00:00</th>\n",
       "      <td>80444.125000</td>\n",
       "      <td>84961.062500</td>\n",
       "      <td>80444.125000</td>\n",
       "      <td>84506.726562</td>\n",
       "      <td>93990379520</td>\n",
       "      <td>0.400000</td>\n",
       "      <td>0.042980</td>\n",
       "      <td>0.058333</td>\n",
       "      <td>NaN</td>\n",
       "      <td>0</td>\n",
       "    </tr>\n",
       "  </tbody>\n",
       "</table>\n",
       "<p>3709 rows × 10 columns</p>\n",
       "</div>"
      ]
     },
     "execution_count": 22,
     "metadata": {},
     "output_type": "execute_result"
    },
    {
     "data": {
      "text/plain": [
       "<Figure size 640x480 with 1 Axes>"
      ],
      "image/png": "[encoded data removed]"
     },
     "metadata": {},
     "output_type": "display_data"
    }
   ],
   "execution_count": 22
  },
  {
   "metadata": {
    "ExecuteTime": {
     "end_time": "2024-11-14T01:29:35.944386Z",
     "start_time": "2024-11-14T01:29:35.908208Z"
    }
   },
   "cell_type": "code",
   "source": "btc.to_csv(\"merged_btc.csv\")",
   "id": "298be1bacf5c4348",
   "outputs": [],
   "execution_count": 23
  },
  {
   "metadata": {
    "ExecuteTime": {
     "end_time": "2024-11-13T17:41:48.584941100Z",
     "start_time": "2024-11-13T17:15:08.737462Z"
    }
   },
   "cell_type": "code",
   "source": [
    "wiki = pd.read_csv('wikipedia_edits.csv', index_col=0, parse_dates=True)\n",
    "# wiki.index = wiki.index.tz_localize(\"UTC\")\n",
    "wiki"
   ],
   "id": "f5be6e2badff9025",
   "outputs": [
    {
     "data": {
      "text/plain": [
       "            edit_count  sentiment  neg_sentiment\n",
       "2009-04-06    0.133333  -0.018351       0.025000\n",
       "2009-04-07    0.000000   0.000000       0.000000\n",
       "2009-04-08    0.000000   0.000000       0.000000\n",
       "2009-04-09    0.000000   0.000000       0.000000\n",
       "2009-04-10    0.000000   0.000000       0.000000\n",
       "...                ...        ...            ...\n",
       "2024-11-07    0.266667  -0.004846       0.066667\n",
       "2024-11-08    0.266667  -0.004846       0.066667\n",
       "2024-11-09    0.300000   0.028332       0.066667\n",
       "2024-11-10    0.433333   0.009679       0.091667\n",
       "2024-11-11    0.400000   0.042980       0.058333\n",
       "\n",
       "[5699 rows x 3 columns]"
      ],
      "text/html": [
       "<div>\n",
       "<style scoped>\n",
       "    .dataframe tbody tr th:only-of-type {\n",
       "        vertical-align: middle;\n",
       "    }\n",
       "\n",
       "    .dataframe tbody tr th {\n",
       "        vertical-align: top;\n",
       "    }\n",
       "\n",
       "    .dataframe thead th {\n",
       "        text-align: right;\n",
       "    }\n",
       "</style>\n",
       "<table border=\"1\" class=\"dataframe\">\n",
       "  <thead>\n",
       "    <tr style=\"text-align: right;\">\n",
       "      <th></th>\n",
       "      <th>edit_count</th>\n",
       "      <th>sentiment</th>\n",
       "      <th>neg_sentiment</th>\n",
       "    </tr>\n",
       "  </thead>\n",
       "  <tbody>\n",
       "    <tr>\n",
       "      <th>2009-04-06</th>\n",
       "      <td>0.133333</td>\n",
       "      <td>-0.018351</td>\n",
       "      <td>0.025000</td>\n",
       "    </tr>\n",
       "    <tr>\n",
       "      <th>2009-04-07</th>\n",
       "      <td>0.000000</td>\n",
       "      <td>0.000000</td>\n",
       "      <td>0.000000</td>\n",
       "    </tr>\n",
       "    <tr>\n",
       "      <th>2009-04-08</th>\n",
       "      <td>0.000000</td>\n",
       "      <td>0.000000</td>\n",
       "      <td>0.000000</td>\n",
       "    </tr>\n",
       "    <tr>\n",
       "      <th>2009-04-09</th>\n",
       "      <td>0.000000</td>\n",
       "      <td>0.000000</td>\n",
       "      <td>0.000000</td>\n",
       "    </tr>\n",
       "    <tr>\n",
       "      <th>2009-04-10</th>\n",
       "      <td>0.000000</td>\n",
       "      <td>0.000000</td>\n",
       "      <td>0.000000</td>\n",
       "    </tr>\n",
       "    <tr>\n",
       "      <th>...</th>\n",
       "      <td>...</td>\n",
       "      <td>...</td>\n",
       "      <td>...</td>\n",
       "    </tr>\n",
       "    <tr>\n",
       "      <th>2024-11-07</th>\n",
       "      <td>0.266667</td>\n",
       "      <td>-0.004846</td>\n",
       "      <td>0.066667</td>\n",
       "    </tr>\n",
       "    <tr>\n",
       "      <th>2024-11-08</th>\n",
       "      <td>0.266667</td>\n",
       "      <td>-0.004846</td>\n",
       "      <td>0.066667</td>\n",
       "    </tr>\n",
       "    <tr>\n",
       "      <th>2024-11-09</th>\n",
       "      <td>0.300000</td>\n",
       "      <td>0.028332</td>\n",
       "      <td>0.066667</td>\n",
       "    </tr>\n",
       "    <tr>\n",
       "      <th>2024-11-10</th>\n",
       "      <td>0.433333</td>\n",
       "      <td>0.009679</td>\n",
       "      <td>0.091667</td>\n",
       "    </tr>\n",
       "    <tr>\n",
       "      <th>2024-11-11</th>\n",
       "      <td>0.400000</td>\n",
       "      <td>0.042980</td>\n",
       "      <td>0.058333</td>\n",
       "    </tr>\n",
       "  </tbody>\n",
       "</table>\n",
       "<p>5699 rows × 3 columns</p>\n",
       "</div>"
      ]
     },
     "execution_count": 59,
     "metadata": {},
     "output_type": "execute_result"
    }
   ],
   "execution_count": 59
  },
  {
   "metadata": {
    "ExecuteTime": {
     "end_time": "2024-11-13T17:41:48.589468100Z",
     "start_time": "2024-11-13T17:17:22.809166Z"
    }
   },
   "cell_type": "code",
   "source": [
    "btc = btc.tz_localize(None) if btc.index.tz else btc\n",
    "wiki = wiki.tz_localize(None) if wiki.index.tz else wiki"
   ],
   "id": "31a559e4c508e98c",
   "outputs": [],
   "execution_count": 63
  },
  {
   "metadata": {
    "ExecuteTime": {
     "end_time": "2024-11-13T17:41:48.589468100Z",
     "start_time": "2024-11-13T17:17:23.320861Z"
    }
   },
   "cell_type": "code",
   "source": [
    "# converting time zone\n",
    "print(btc.index.tz)\n",
    "print(wiki.index.tz)"
   ],
   "id": "b6ecc5dc40b1bcbd",
   "outputs": [
    {
     "name": "stdout",
     "output_type": "stream",
     "text": [
      "None\n",
      "None\n"
     ]
    }
   ],
   "execution_count": 64
  },
  {
   "metadata": {
    "ExecuteTime": {
     "end_time": "2024-11-13T17:41:48.589468100Z",
     "start_time": "2024-11-13T17:17:58.537897Z"
    }
   },
   "cell_type": "code",
   "outputs": [],
   "execution_count": 65,
   "source": [
    "btc_before = btc\n",
    "wiki_before = wiki"
   ],
   "id": "615e3fadef3d2cd9"
  },
  {
   "metadata": {
    "ExecuteTime": {
     "end_time": "2024-11-13T17:41:48.589468100Z",
     "start_time": "2024-11-13T17:18:56.408314Z"
    }
   },
   "cell_type": "code",
   "source": [
    "btc_common = btc_before.reindex(wiki_before.index, method='nearest')\n",
    "wiki_common = wiki.reindex(btc_before.index, method='nearest')"
   ],
   "id": "3c63cd9fe3e1af17",
   "outputs": [],
   "execution_count": 66
  },
  {
   "metadata": {
    "ExecuteTime": {
     "end_time": "2024-11-13T17:41:48.589468100Z",
     "start_time": "2024-11-13T17:19:47.002010Z"
    }
   },
   "cell_type": "code",
   "source": "btc_after = btc_common.merge(wiki_common, left_index=True, right_index=True)",
   "id": "c1326daf0da60b9c",
   "outputs": [],
   "execution_count": 67
  },
  {
   "metadata": {
    "ExecuteTime": {
     "end_time": "2024-11-13T17:41:48.589468100Z",
     "start_time": "2024-11-13T17:19:53.453620Z"
    }
   },
   "cell_type": "code",
   "source": "btc_after",
   "id": "b6bf577ce7e442c3",
   "outputs": [
    {
     "data": {
      "text/plain": [
       "Empty DataFrame\n",
       "Columns: [date, open, high, low, close, volume, edit_count, sentiment, neg_sentiment]\n",
       "Index: []"
      ],
      "text/html": [
       "<div>\n",
       "<style scoped>\n",
       "    .dataframe tbody tr th:only-of-type {\n",
       "        vertical-align: middle;\n",
       "    }\n",
       "\n",
       "    .dataframe tbody tr th {\n",
       "        vertical-align: top;\n",
       "    }\n",
       "\n",
       "    .dataframe thead th {\n",
       "        text-align: right;\n",
       "    }\n",
       "</style>\n",
       "<table border=\"1\" class=\"dataframe\">\n",
       "  <thead>\n",
       "    <tr style=\"text-align: right;\">\n",
       "      <th></th>\n",
       "      <th>date</th>\n",
       "      <th>open</th>\n",
       "      <th>high</th>\n",
       "      <th>low</th>\n",
       "      <th>close</th>\n",
       "      <th>volume</th>\n",
       "      <th>edit_count</th>\n",
       "      <th>sentiment</th>\n",
       "      <th>neg_sentiment</th>\n",
       "    </tr>\n",
       "  </thead>\n",
       "  <tbody>\n",
       "  </tbody>\n",
       "</table>\n",
       "</div>"
      ]
     },
     "execution_count": 68,
     "metadata": {},
     "output_type": "execute_result"
    }
   ],
   "execution_count": 68
  },
  {
   "metadata": {},
   "cell_type": "code",
   "source": [
    "\n",
    "# btc = btc.merge(wiki, left_index=True, right_index=True)\n",
    "# btc['tomorrow'] = btc['close'].shift(-1)\n",
    "# btc['target'] = (btc['tomorrow'] > btc[\"close\"]).astype(int)\n",
    "# btc[\"target\"].value_counts()\n"
   ],
   "id": "174e9ede9ac35d26",
   "outputs": [],
   "execution_count": null
  },
  {
   "metadata": {},
   "cell_type": "code",
   "source": [
    "print(btc.dtypes)\n",
    "print(wiki.dtypes)"
   ],
   "id": "c136d9aa70b64f7f",
   "outputs": [],
   "execution_count": null
  },
  {
   "metadata": {},
   "cell_type": "code",
   "source": [
    "from sklearn.ensemble import RandomForestClassifier\n",
    "\n",
    "model = RandomForestClassifier(n_estimators=100, min_samples_split=50, random_state=1)\n",
    "\n",
    "train = btc.iloc[:-200]\n",
    "test = btc.iloc[-200:]\n",
    "\n",
    "predictors = [\"close\", \"volume\", \"open\", \"high\", \"low\", \"edit_count\", \"sentiment\", \"neg_sentiment\"]\n",
    "model.fit(train[predictors], train[\"target\"])"
   ],
   "id": "8ef0dc1ad7ff64f7",
   "outputs": [],
   "execution_count": null
  },
  {
   "metadata": {},
   "cell_type": "code",
   "source": [
    "from sklearn.metrics import precision_score\n",
    "\n",
    "preds = model.predict(test[predictors])\n",
    "preds = pd.Series(preds, index=test.index)\n",
    "precision = precision_score(test[\"target\"], preds)\n",
    "print(precision)"
   ],
   "id": "22a2dfb8414b843f",
   "outputs": [],
   "execution_count": null
  },
  {
   "metadata": {},
   "cell_type": "code",
   "source": [
    "def predict(train, test, predictors, model):\n",
    "    from sklearn.ensemble import RandomForestClassifier\n",
    "    model.fit(train[predictors], train[\"target\"]) \n",
    "    preds = model.predict(test[predictors])\n",
    "    preds = pd.Series(preds, index=test.index, name='predictions')\n",
    "    precision = precision_score(test[\"target\"], preds)\n",
    "    combined = pd.concat([test[\"target\"], preds], axis=1)\n",
    "    return combined\n",
    "    "
   ],
   "id": "27768d6b1a9ac6a6",
   "outputs": [],
   "execution_count": null
  },
  {
   "metadata": {},
   "cell_type": "code",
   "source": [
    "def backtest(data, model, predictors, start=1095, step=150):\n",
    "    all_predictions = []\n",
    "    \n",
    "    for i in range(start, data.shape[0], step):\n",
    "        train = data.iloc[0:i].copy()\n",
    "        test = data.iloc[i:(i+step)].copy()\n",
    "        predictions = predict(train, test, predictors, model)\n",
    "        all_predictions.append(predictions)\n",
    "        \n",
    "    return pd.concat(all_predictions)"
   ],
   "id": "db48deecb3eb6ff5",
   "outputs": [],
   "execution_count": null
  },
  {
   "metadata": {},
   "cell_type": "code",
   "source": [
    "from xgboost import XGBClassifier\n",
    "\n",
    "model = XGBClassifier(random_state=1, learning_rate=0.1, n_estimators=200)\n",
    "predictions = backtest(btc, model, predictors)"
   ],
   "id": "d714ed0257445cce",
   "outputs": [],
   "execution_count": null
  },
  {
   "metadata": {},
   "cell_type": "code",
   "source": "precision_score(predictions[\"target\"], predictions[\"predictions\"])",
   "id": "2eb82d4b28849a8e",
   "outputs": [],
   "execution_count": null
  },
  {
   "metadata": {},
   "cell_type": "code",
   "source": [
    "import torch.nn as nn\n",
    "import torch\n",
    "\n",
    "class LSTMCell(nn.Module):\n",
    "    def __init__(self, input_size, hidden_size, output_size, num_layers=1):\n",
    "        super(LSTMCell, self).__init__()\n",
    "        self.input_size = input_size\n",
    "        self.num_layers = num_layers\n",
    "        self.hidden_size = hidden_size\n",
    "        self.output_size = output_size\n",
    "        self.lstm = nn.LSTM(input_size, hidden_size, num_layers=self.num_layers, batch_first=True)\n",
    "        self.fc = nn.Linear(hidden_size, output_size)\n",
    "    \n",
    "        \n",
    "    def forward(self, x):\n",
    "        h0 = torch.zeros(x.size(1), self.num_layers, self.hidden_size).cuda()\n",
    "        c0 = torch.zeros(x.size(1), self.num_layers, self.hidden_size).cuda()\n",
    "        print(\"h0 shape\", h0.shape)\n",
    "        print(\"c0\", c0.shape)\n",
    "        print(\"x\", x.shape)\n",
    "        \n",
    "        output, _ = self.lstm(x, (h0, c0))\n",
    "        out = self.fc(output[:, -1, :])\n",
    "        return out"
   ],
   "id": "9b90bb951fd5a764",
   "outputs": [],
   "execution_count": null
  },
  {
   "metadata": {},
   "cell_type": "code",
   "source": [
    "sequence_length = 10 \n",
    "input_size = len(predictors)\n",
    "batch_size = 32"
   ],
   "id": "6ecb727a615622c6",
   "outputs": [],
   "execution_count": null
  },
  {
   "metadata": {},
   "cell_type": "code",
   "source": [
    "def create_sequence(data, target, sequence_length):\n",
    "    x, y = [], []\n",
    "    for i in range(len(data) - sequence_length):\n",
    "        x.append(data[i: i + sequence_length])\n",
    "        y.append(target[i + sequence_length])\n",
    "        print(\"iteration:\", i)\n",
    "    return torch.tensor(x, dtype=torch.float32), torch.tensor(y, dtype=torch.float32)"
   ],
   "id": "797ea37a90b025d4",
   "outputs": [],
   "execution_count": null
  },
  {
   "metadata": {},
   "cell_type": "code",
   "source": [
    "from torch.utils.data import DataLoader, TensorDataset\n",
    "\n",
    "x_train = torch.tensor(train[predictors].values, dtype=torch.float32)\n",
    "y_train = torch.tensor(train[\"target\"].values, dtype=torch.int32)\n",
    "x_test = torch.tensor(test[predictors].values, dtype=torch.float32)\n",
    "y_test = torch.tensor(test[\"target\"].values, dtype=torch.int32)\n"
   ],
   "id": "66b317ec26127899",
   "outputs": [],
   "execution_count": null
  },
  {
   "metadata": {},
   "cell_type": "code",
   "source": [
    "print(\"x_train shape\", x_train.shape)\n",
    "print(\"x_test shape\", x_test.shape)"
   ],
   "id": "4bd0103f3b312d0a",
   "outputs": [],
   "execution_count": null
  },
  {
   "metadata": {},
   "cell_type": "code",
   "source": [
    "x_train_seq, y_train_seq = create_sequence(x_train, y_train, sequence_length)\n",
    "x_test_seq, y_test_seq = create_sequence(x_test, y_test, sequence_length)\n"
   ],
   "id": "4b970afa1a978e9a",
   "outputs": [],
   "execution_count": null
  },
  {
   "metadata": {},
   "cell_type": "code",
   "source": [
    "# train_dataset = TensorDataset(x_train, y_train)\n",
    "# test_dataset = TensorDataset(x_test, y_test)\n",
    "# train_loader = DataLoader(train_dataset, batch_size=32, shuffle=True)\n",
    "# test_loader = DataLoader(test_dataset, batch_size=32, shuffle=True)\n",
    "\n",
    "train_dataset = TensorDataset(x_train_seq, y_train_seq)\n",
    "test_dataset = TensorDataset(x_test_seq, y_test_seq)\n",
    "\n",
    "train_dataloader = DataLoader(train_dataset, batch_size=batch_size, shuffle=True)\n",
    "test_dataloader = DataLoader(test_dataset, batch_size=batch_size, shuffle=True)"
   ],
   "id": "d27fb2524acb3477",
   "outputs": [],
   "execution_count": null
  },
  {
   "metadata": {},
   "cell_type": "code",
   "source": "lstmModel = LSTMCell(input_size=x_train.shape[1], hidden_size=128, output_size=1)",
   "id": "3631cb096f3b7570",
   "outputs": [],
   "execution_count": null
  },
  {
   "metadata": {},
   "cell_type": "code",
   "source": [
    "criterion = nn.BCELoss()\n",
    "optimizer = torch.optim.Adam(lstmModel.parameters(), lr=0.001)"
   ],
   "id": "ed5da4e937bfc5d3",
   "outputs": [],
   "execution_count": null
  },
  {
   "metadata": {},
   "cell_type": "code",
   "source": [
    "num_epochs = 10\n",
    "for epoch in range(num_epochs):\n",
    "    lstmModel.train()\n",
    "    for x, y in train_loader:\n",
    "        optimizer.zero_grad()\n",
    "        predictions = lstmModel(x)\n",
    "        loss = criterion(predictions, y)\n",
    "        loss.backward()\n",
    "        optimizer.step()\n",
    "        \n",
    "    print(f\"Epoch {epoch+1}/{num_epochs}.. , Loss: {loss.item():.4f}\")"
   ],
   "id": "7c75eaf7a570d94a",
   "outputs": [],
   "execution_count": null
  },
  {
   "metadata": {},
   "cell_type": "code",
   "source": "",
   "id": "3fac28804df33c15",
   "outputs": [],
   "execution_count": null
  }
 ],
 "metadata": {
  "kernelspec": {
   "display_name": "Python 3",
   "language": "python",
   "name": "python3"
  },
  "language_info": {
   "codemirror_mode": {
    "name": "ipython",
    "version": 2
   },
   "file_extension": ".py",
   "mimetype": "text/x-python",
   "name": "python",
   "nbconvert_exporter": "python",
   "pygments_lexer": "ipython2",
   "version": "2.7.6"
  }
 },
 "nbformat": 4,
 "nbformat_minor": 5
}
